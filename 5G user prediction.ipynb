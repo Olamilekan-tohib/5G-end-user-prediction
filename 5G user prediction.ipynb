{
  "nbformat": 4,
  "nbformat_minor": 0,
  "metadata": {
    "colab": {
      "provenance": []
    },
    "kernelspec": {
      "name": "python3",
      "display_name": "Python 3"
    },
    "language_info": {
      "name": "python"
    }
  },
  "cells": [
    {
      "cell_type": "code",
      "execution_count": 1,
      "metadata": {
        "id": "h5dlAWvQaN-s"
      },
      "outputs": [],
      "source": [
        "import pandas as pd\n",
        "import numpy as np\n",
        "import matplotlib.pyplot as plt\n",
        "import seaborn as sb\n",
        "%matplotlib inline"
      ]
    },
    {
      "cell_type": "code",
      "source": [
        "df = pd.read_csv('train_data.csv')"
      ],
      "metadata": {
        "id": "lVKovfCoacdA"
      },
      "execution_count": 2,
      "outputs": []
    },
    {
      "cell_type": "code",
      "source": [
        "df.head()"
      ],
      "metadata": {
        "colab": {
          "base_uri": "https://localhost:8080/",
          "height": 299
        },
        "id": "GQvksrc3aeco",
        "outputId": "be017e6d-766c-4509-cd34-7fdf213c7a20"
      },
      "execution_count": 3,
      "outputs": [
        {
          "output_type": "execute_result",
          "data": {
            "text/plain": [
              "   prov_id   area_id                           user_id  chnl_type  \\\n",
              "0       81  V0513400  5f950e1751acd6a6fa9bf88eb5560c78          7   \n",
              "1       36  V0330200  40015dd14b779d1d3d4e8e2536c6115a          7   \n",
              "2       76  V0410100  72f4ddd94488cc2f30bc83b82f55d3eb          7   \n",
              "3       84  V0610100  845983a3e7973b0016c73071f4c70c1c         10   \n",
              "4       85  V0520100  0326fbd12145c5378baf5168a8e9c8fe          7   \n",
              "\n",
              "   service_type  product_type  innet_months  total_times  total_flux  \\\n",
              "0             4             5            29     1.149441   10.864754   \n",
              "1             4             3             5     0.688337    6.814911   \n",
              "2             4             4           104     1.102318    9.492543   \n",
              "3             4             5            15     0.122139    5.008418   \n",
              "4             4             3            21     0.158738    9.745640   \n",
              "\n",
              "   total_fee  ...  active_days20  active_days21  active_days22  active_days23  \\\n",
              "0     93.000  ...              4              2              0              0   \n",
              "1     89.912  ...              2              2              0              0   \n",
              "2     62.670  ...              0              3              0              0   \n",
              "3     75.798  ...              4              4              0              0   \n",
              "4     54.500  ...             20              0              6              1   \n",
              "\n",
              "   game_app_flux  live_app_flux  video_app_flux  city_5g_ratio  city_level  \\\n",
              "0            0.0        0.00000     5526.494937       0.000512           7   \n",
              "1            0.0        0.00000        0.000000       0.000356           3   \n",
              "2            0.0        0.00000     1235.091633       0.000490           3   \n",
              "3            0.0        9.13548     1194.355876       0.000328           2   \n",
              "4            0.0        0.00000       26.783371       0.000830           6   \n",
              "\n",
              "   is_5g  \n",
              "0      1  \n",
              "1      0  \n",
              "2      0  \n",
              "3      0  \n",
              "4      0  \n",
              "\n",
              "[5 rows x 60 columns]"
            ],
            "text/html": [
              "\n",
              "  <div id=\"df-a2a9b1a8-5a85-4316-be7c-24eed0fe6e3a\">\n",
              "    <div class=\"colab-df-container\">\n",
              "      <div>\n",
              "<style scoped>\n",
              "    .dataframe tbody tr th:only-of-type {\n",
              "        vertical-align: middle;\n",
              "    }\n",
              "\n",
              "    .dataframe tbody tr th {\n",
              "        vertical-align: top;\n",
              "    }\n",
              "\n",
              "    .dataframe thead th {\n",
              "        text-align: right;\n",
              "    }\n",
              "</style>\n",
              "<table border=\"1\" class=\"dataframe\">\n",
              "  <thead>\n",
              "    <tr style=\"text-align: right;\">\n",
              "      <th></th>\n",
              "      <th>prov_id</th>\n",
              "      <th>area_id</th>\n",
              "      <th>user_id</th>\n",
              "      <th>chnl_type</th>\n",
              "      <th>service_type</th>\n",
              "      <th>product_type</th>\n",
              "      <th>innet_months</th>\n",
              "      <th>total_times</th>\n",
              "      <th>total_flux</th>\n",
              "      <th>total_fee</th>\n",
              "      <th>...</th>\n",
              "      <th>active_days20</th>\n",
              "      <th>active_days21</th>\n",
              "      <th>active_days22</th>\n",
              "      <th>active_days23</th>\n",
              "      <th>game_app_flux</th>\n",
              "      <th>live_app_flux</th>\n",
              "      <th>video_app_flux</th>\n",
              "      <th>city_5g_ratio</th>\n",
              "      <th>city_level</th>\n",
              "      <th>is_5g</th>\n",
              "    </tr>\n",
              "  </thead>\n",
              "  <tbody>\n",
              "    <tr>\n",
              "      <th>0</th>\n",
              "      <td>81</td>\n",
              "      <td>V0513400</td>\n",
              "      <td>5f950e1751acd6a6fa9bf88eb5560c78</td>\n",
              "      <td>7</td>\n",
              "      <td>4</td>\n",
              "      <td>5</td>\n",
              "      <td>29</td>\n",
              "      <td>1.149441</td>\n",
              "      <td>10.864754</td>\n",
              "      <td>93.000</td>\n",
              "      <td>...</td>\n",
              "      <td>4</td>\n",
              "      <td>2</td>\n",
              "      <td>0</td>\n",
              "      <td>0</td>\n",
              "      <td>0.0</td>\n",
              "      <td>0.00000</td>\n",
              "      <td>5526.494937</td>\n",
              "      <td>0.000512</td>\n",
              "      <td>7</td>\n",
              "      <td>1</td>\n",
              "    </tr>\n",
              "    <tr>\n",
              "      <th>1</th>\n",
              "      <td>36</td>\n",
              "      <td>V0330200</td>\n",
              "      <td>40015dd14b779d1d3d4e8e2536c6115a</td>\n",
              "      <td>7</td>\n",
              "      <td>4</td>\n",
              "      <td>3</td>\n",
              "      <td>5</td>\n",
              "      <td>0.688337</td>\n",
              "      <td>6.814911</td>\n",
              "      <td>89.912</td>\n",
              "      <td>...</td>\n",
              "      <td>2</td>\n",
              "      <td>2</td>\n",
              "      <td>0</td>\n",
              "      <td>0</td>\n",
              "      <td>0.0</td>\n",
              "      <td>0.00000</td>\n",
              "      <td>0.000000</td>\n",
              "      <td>0.000356</td>\n",
              "      <td>3</td>\n",
              "      <td>0</td>\n",
              "    </tr>\n",
              "    <tr>\n",
              "      <th>2</th>\n",
              "      <td>76</td>\n",
              "      <td>V0410100</td>\n",
              "      <td>72f4ddd94488cc2f30bc83b82f55d3eb</td>\n",
              "      <td>7</td>\n",
              "      <td>4</td>\n",
              "      <td>4</td>\n",
              "      <td>104</td>\n",
              "      <td>1.102318</td>\n",
              "      <td>9.492543</td>\n",
              "      <td>62.670</td>\n",
              "      <td>...</td>\n",
              "      <td>0</td>\n",
              "      <td>3</td>\n",
              "      <td>0</td>\n",
              "      <td>0</td>\n",
              "      <td>0.0</td>\n",
              "      <td>0.00000</td>\n",
              "      <td>1235.091633</td>\n",
              "      <td>0.000490</td>\n",
              "      <td>3</td>\n",
              "      <td>0</td>\n",
              "    </tr>\n",
              "    <tr>\n",
              "      <th>3</th>\n",
              "      <td>84</td>\n",
              "      <td>V0610100</td>\n",
              "      <td>845983a3e7973b0016c73071f4c70c1c</td>\n",
              "      <td>10</td>\n",
              "      <td>4</td>\n",
              "      <td>5</td>\n",
              "      <td>15</td>\n",
              "      <td>0.122139</td>\n",
              "      <td>5.008418</td>\n",
              "      <td>75.798</td>\n",
              "      <td>...</td>\n",
              "      <td>4</td>\n",
              "      <td>4</td>\n",
              "      <td>0</td>\n",
              "      <td>0</td>\n",
              "      <td>0.0</td>\n",
              "      <td>9.13548</td>\n",
              "      <td>1194.355876</td>\n",
              "      <td>0.000328</td>\n",
              "      <td>2</td>\n",
              "      <td>0</td>\n",
              "    </tr>\n",
              "    <tr>\n",
              "      <th>4</th>\n",
              "      <td>85</td>\n",
              "      <td>V0520100</td>\n",
              "      <td>0326fbd12145c5378baf5168a8e9c8fe</td>\n",
              "      <td>7</td>\n",
              "      <td>4</td>\n",
              "      <td>3</td>\n",
              "      <td>21</td>\n",
              "      <td>0.158738</td>\n",
              "      <td>9.745640</td>\n",
              "      <td>54.500</td>\n",
              "      <td>...</td>\n",
              "      <td>20</td>\n",
              "      <td>0</td>\n",
              "      <td>6</td>\n",
              "      <td>1</td>\n",
              "      <td>0.0</td>\n",
              "      <td>0.00000</td>\n",
              "      <td>26.783371</td>\n",
              "      <td>0.000830</td>\n",
              "      <td>6</td>\n",
              "      <td>0</td>\n",
              "    </tr>\n",
              "  </tbody>\n",
              "</table>\n",
              "<p>5 rows × 60 columns</p>\n",
              "</div>\n",
              "      <button class=\"colab-df-convert\" onclick=\"convertToInteractive('df-a2a9b1a8-5a85-4316-be7c-24eed0fe6e3a')\"\n",
              "              title=\"Convert this dataframe to an interactive table.\"\n",
              "              style=\"display:none;\">\n",
              "        \n",
              "  <svg xmlns=\"http://www.w3.org/2000/svg\" height=\"24px\"viewBox=\"0 0 24 24\"\n",
              "       width=\"24px\">\n",
              "    <path d=\"M0 0h24v24H0V0z\" fill=\"none\"/>\n",
              "    <path d=\"M18.56 5.44l.94 2.06.94-2.06 2.06-.94-2.06-.94-.94-2.06-.94 2.06-2.06.94zm-11 1L8.5 8.5l.94-2.06 2.06-.94-2.06-.94L8.5 2.5l-.94 2.06-2.06.94zm10 10l.94 2.06.94-2.06 2.06-.94-2.06-.94-.94-2.06-.94 2.06-2.06.94z\"/><path d=\"M17.41 7.96l-1.37-1.37c-.4-.4-.92-.59-1.43-.59-.52 0-1.04.2-1.43.59L10.3 9.45l-7.72 7.72c-.78.78-.78 2.05 0 2.83L4 21.41c.39.39.9.59 1.41.59.51 0 1.02-.2 1.41-.59l7.78-7.78 2.81-2.81c.8-.78.8-2.07 0-2.86zM5.41 20L4 18.59l7.72-7.72 1.47 1.35L5.41 20z\"/>\n",
              "  </svg>\n",
              "      </button>\n",
              "      \n",
              "  <style>\n",
              "    .colab-df-container {\n",
              "      display:flex;\n",
              "      flex-wrap:wrap;\n",
              "      gap: 12px;\n",
              "    }\n",
              "\n",
              "    .colab-df-convert {\n",
              "      background-color: #E8F0FE;\n",
              "      border: none;\n",
              "      border-radius: 50%;\n",
              "      cursor: pointer;\n",
              "      display: none;\n",
              "      fill: #1967D2;\n",
              "      height: 32px;\n",
              "      padding: 0 0 0 0;\n",
              "      width: 32px;\n",
              "    }\n",
              "\n",
              "    .colab-df-convert:hover {\n",
              "      background-color: #E2EBFA;\n",
              "      box-shadow: 0px 1px 2px rgba(60, 64, 67, 0.3), 0px 1px 3px 1px rgba(60, 64, 67, 0.15);\n",
              "      fill: #174EA6;\n",
              "    }\n",
              "\n",
              "    [theme=dark] .colab-df-convert {\n",
              "      background-color: #3B4455;\n",
              "      fill: #D2E3FC;\n",
              "    }\n",
              "\n",
              "    [theme=dark] .colab-df-convert:hover {\n",
              "      background-color: #434B5C;\n",
              "      box-shadow: 0px 1px 3px 1px rgba(0, 0, 0, 0.15);\n",
              "      filter: drop-shadow(0px 1px 2px rgba(0, 0, 0, 0.3));\n",
              "      fill: #FFFFFF;\n",
              "    }\n",
              "  </style>\n",
              "\n",
              "      <script>\n",
              "        const buttonEl =\n",
              "          document.querySelector('#df-a2a9b1a8-5a85-4316-be7c-24eed0fe6e3a button.colab-df-convert');\n",
              "        buttonEl.style.display =\n",
              "          google.colab.kernel.accessAllowed ? 'block' : 'none';\n",
              "\n",
              "        async function convertToInteractive(key) {\n",
              "          const element = document.querySelector('#df-a2a9b1a8-5a85-4316-be7c-24eed0fe6e3a');\n",
              "          const dataTable =\n",
              "            await google.colab.kernel.invokeFunction('convertToInteractive',\n",
              "                                                     [key], {});\n",
              "          if (!dataTable) return;\n",
              "\n",
              "          const docLinkHtml = 'Like what you see? Visit the ' +\n",
              "            '<a target=\"_blank\" href=https://colab.research.google.com/notebooks/data_table.ipynb>data table notebook</a>'\n",
              "            + ' to learn more about interactive tables.';\n",
              "          element.innerHTML = '';\n",
              "          dataTable['output_type'] = 'display_data';\n",
              "          await google.colab.output.renderOutput(dataTable, element);\n",
              "          const docLink = document.createElement('div');\n",
              "          docLink.innerHTML = docLinkHtml;\n",
              "          element.appendChild(docLink);\n",
              "        }\n",
              "      </script>\n",
              "    </div>\n",
              "  </div>\n",
              "  "
            ]
          },
          "metadata": {},
          "execution_count": 3
        }
      ]
    },
    {
      "cell_type": "code",
      "source": [
        "df.info()"
      ],
      "metadata": {
        "colab": {
          "base_uri": "https://localhost:8080/"
        },
        "id": "vmR6ryZ_alD7",
        "outputId": "f4a63dc7-f7ae-489a-af46-3412fa4a8753"
      },
      "execution_count": 4,
      "outputs": [
        {
          "output_type": "stream",
          "name": "stdout",
          "text": [
            "<class 'pandas.core.frame.DataFrame'>\n",
            "RangeIndex: 1000 entries, 0 to 999\n",
            "Data columns (total 60 columns):\n",
            " #   Column                Non-Null Count  Dtype  \n",
            "---  ------                --------------  -----  \n",
            " 0   prov_id               1000 non-null   int64  \n",
            " 1   area_id               1000 non-null   object \n",
            " 2   user_id               1000 non-null   object \n",
            " 3   chnl_type             1000 non-null   int64  \n",
            " 4   service_type          1000 non-null   int64  \n",
            " 5   product_type          1000 non-null   int64  \n",
            " 6   innet_months          1000 non-null   int64  \n",
            " 7   total_times           1000 non-null   float64\n",
            " 8   total_flux            1000 non-null   float64\n",
            " 9   total_fee             1000 non-null   float64\n",
            " 10  pay_fee               1000 non-null   float64\n",
            " 11  sex                   1000 non-null   int64  \n",
            " 12  age                   1000 non-null   int64  \n",
            " 13  manu_name             1000 non-null   int64  \n",
            " 14  term_type             1000 non-null   int64  \n",
            " 15  max_rat_flag          1000 non-null   int64  \n",
            " 16  is_5g_base_cover      1000 non-null   int64  \n",
            " 17  is_work_5g_cover      1000 non-null   int64  \n",
            " 18  is_home_5g_cover      1000 non-null   int64  \n",
            " 19  is_work_5g_cover_l01  1000 non-null   int64  \n",
            " 20  is_home_5g_cover_l01  1000 non-null   int64  \n",
            " 21  is_work_5g_cover_l02  1000 non-null   int64  \n",
            " 22  is_home_5g_cover_l02  1000 non-null   int64  \n",
            " 23  activity_type         1000 non-null   int64  \n",
            " 24  is_act_expire         1000 non-null   int64  \n",
            " 25  comp_type             1000 non-null   int64  \n",
            " 26  call_days             1000 non-null   float64\n",
            " 27  re_call10             1000 non-null   float64\n",
            " 28  short_call10          1000 non-null   float64\n",
            " 29  long_call10           1000 non-null   float64\n",
            " 30  bank_cnt              1000 non-null   float64\n",
            " 31  active_days01         1000 non-null   int64  \n",
            " 32  active_days02         1000 non-null   int64  \n",
            " 33  active_days03         1000 non-null   int64  \n",
            " 34  active_days04         1000 non-null   int64  \n",
            " 35  active_days05         1000 non-null   int64  \n",
            " 36  active_days06         1000 non-null   int64  \n",
            " 37  active_days07         1000 non-null   int64  \n",
            " 38  active_days08         1000 non-null   int64  \n",
            " 39  active_days09         1000 non-null   int64  \n",
            " 40  active_days10         1000 non-null   int64  \n",
            " 41  active_days11         1000 non-null   int64  \n",
            " 42  active_days12         1000 non-null   int64  \n",
            " 43  active_days13         1000 non-null   int64  \n",
            " 44  active_days14         1000 non-null   int64  \n",
            " 45  active_days15         1000 non-null   int64  \n",
            " 46  active_days16         1000 non-null   int64  \n",
            " 47  active_days17         1000 non-null   int64  \n",
            " 48  active_days18         1000 non-null   int64  \n",
            " 49  active_days19         1000 non-null   int64  \n",
            " 50  active_days20         1000 non-null   int64  \n",
            " 51  active_days21         1000 non-null   int64  \n",
            " 52  active_days22         1000 non-null   int64  \n",
            " 53  active_days23         1000 non-null   int64  \n",
            " 54  game_app_flux         1000 non-null   float64\n",
            " 55  live_app_flux         1000 non-null   float64\n",
            " 56  video_app_flux        1000 non-null   float64\n",
            " 57  city_5g_ratio         1000 non-null   float64\n",
            " 58  city_level            1000 non-null   int64  \n",
            " 59  is_5g                 1000 non-null   int64  \n",
            "dtypes: float64(13), int64(45), object(2)\n",
            "memory usage: 468.9+ KB\n"
          ]
        }
      ]
    },
    {
      "cell_type": "code",
      "source": [
        "days=['active_days01', 'active_days02',\n",
        "       'active_days03', 'active_days04', 'active_days05', 'active_days06',\n",
        "       'active_days07', 'active_days08', 'active_days09', 'active_days10',\n",
        "       'active_days11', 'active_days12', 'active_days13', 'active_days14',\n",
        "       'active_days15', 'active_days16', 'active_days17', 'active_days18',\n",
        "       'active_days19', 'active_days20', 'active_days21', 'active_days22',\n",
        "       'active_days23']\n",
        "df.drop(columns=days,inplace=True)"
      ],
      "metadata": {
        "id": "7DCF1WzUcfbv"
      },
      "execution_count": 5,
      "outputs": []
    },
    {
      "cell_type": "code",
      "source": [
        "df.info()"
      ],
      "metadata": {
        "colab": {
          "base_uri": "https://localhost:8080/"
        },
        "id": "33FpzYADchz3",
        "outputId": "a5da96c7-84fb-4517-d015-37d961087d02"
      },
      "execution_count": 6,
      "outputs": [
        {
          "output_type": "stream",
          "name": "stdout",
          "text": [
            "<class 'pandas.core.frame.DataFrame'>\n",
            "RangeIndex: 1000 entries, 0 to 999\n",
            "Data columns (total 37 columns):\n",
            " #   Column                Non-Null Count  Dtype  \n",
            "---  ------                --------------  -----  \n",
            " 0   prov_id               1000 non-null   int64  \n",
            " 1   area_id               1000 non-null   object \n",
            " 2   user_id               1000 non-null   object \n",
            " 3   chnl_type             1000 non-null   int64  \n",
            " 4   service_type          1000 non-null   int64  \n",
            " 5   product_type          1000 non-null   int64  \n",
            " 6   innet_months          1000 non-null   int64  \n",
            " 7   total_times           1000 non-null   float64\n",
            " 8   total_flux            1000 non-null   float64\n",
            " 9   total_fee             1000 non-null   float64\n",
            " 10  pay_fee               1000 non-null   float64\n",
            " 11  sex                   1000 non-null   int64  \n",
            " 12  age                   1000 non-null   int64  \n",
            " 13  manu_name             1000 non-null   int64  \n",
            " 14  term_type             1000 non-null   int64  \n",
            " 15  max_rat_flag          1000 non-null   int64  \n",
            " 16  is_5g_base_cover      1000 non-null   int64  \n",
            " 17  is_work_5g_cover      1000 non-null   int64  \n",
            " 18  is_home_5g_cover      1000 non-null   int64  \n",
            " 19  is_work_5g_cover_l01  1000 non-null   int64  \n",
            " 20  is_home_5g_cover_l01  1000 non-null   int64  \n",
            " 21  is_work_5g_cover_l02  1000 non-null   int64  \n",
            " 22  is_home_5g_cover_l02  1000 non-null   int64  \n",
            " 23  activity_type         1000 non-null   int64  \n",
            " 24  is_act_expire         1000 non-null   int64  \n",
            " 25  comp_type             1000 non-null   int64  \n",
            " 26  call_days             1000 non-null   float64\n",
            " 27  re_call10             1000 non-null   float64\n",
            " 28  short_call10          1000 non-null   float64\n",
            " 29  long_call10           1000 non-null   float64\n",
            " 30  bank_cnt              1000 non-null   float64\n",
            " 31  game_app_flux         1000 non-null   float64\n",
            " 32  live_app_flux         1000 non-null   float64\n",
            " 33  video_app_flux        1000 non-null   float64\n",
            " 34  city_5g_ratio         1000 non-null   float64\n",
            " 35  city_level            1000 non-null   int64  \n",
            " 36  is_5g                 1000 non-null   int64  \n",
            "dtypes: float64(13), int64(22), object(2)\n",
            "memory usage: 289.2+ KB\n"
          ]
        }
      ]
    },
    {
      "cell_type": "code",
      "source": [
        "df_final = df.drop(['user_id','area_id','innet_months','total_times','total_flux','total_fee','pay_fee','age','call_days','re_call10','short_call10','long_call10','bank_cnt','game_app_flux','live_app_flux','video_app_flux'], axis = 1)"
      ],
      "metadata": {
        "id": "mwxx85JIfOuS"
      },
      "execution_count": 7,
      "outputs": []
    },
    {
      "cell_type": "code",
      "source": [
        "x = df_final.drop(['is_5g'], axis = 1)"
      ],
      "metadata": {
        "id": "OZQLPtbabY1S"
      },
      "execution_count": 8,
      "outputs": []
    },
    {
      "cell_type": "code",
      "source": [
        "y = df['is_5g']"
      ],
      "metadata": {
        "id": "FBfqiOmCavVA"
      },
      "execution_count": 9,
      "outputs": []
    },
    {
      "cell_type": "code",
      "source": [
        "x"
      ],
      "metadata": {
        "colab": {
          "base_uri": "https://localhost:8080/",
          "height": 488
        },
        "id": "pdXS1t6VdrWU",
        "outputId": "e1e917ce-041a-4f8a-8669-29994122e46e"
      },
      "execution_count": 10,
      "outputs": [
        {
          "output_type": "execute_result",
          "data": {
            "text/plain": [
              "     prov_id  chnl_type  service_type  product_type  sex  manu_name  \\\n",
              "0         81          7             4             5    1          3   \n",
              "1         36          7             4             3    1          6   \n",
              "2         76          7             4             4    0          5   \n",
              "3         84         10             4             5    0          1   \n",
              "4         85          7             4             3    1          6   \n",
              "..       ...        ...           ...           ...  ...        ...   \n",
              "995       76         10             4             4    0          2   \n",
              "996       18          7             1             2    1          2   \n",
              "997       76         10             4             5    1          3   \n",
              "998       51          9             4             3    1          5   \n",
              "999       11         10             4             5    1          5   \n",
              "\n",
              "     term_type  max_rat_flag  is_5g_base_cover  is_work_5g_cover  \\\n",
              "0            4             4                 0                 0   \n",
              "1            4             4                 0                 0   \n",
              "2            4             4                 1                 1   \n",
              "3            1             4                 0                 0   \n",
              "4            4             4                 0                 0   \n",
              "..         ...           ...               ...               ...   \n",
              "995          4             4                 0                 0   \n",
              "996          4             4                 0                 0   \n",
              "997          4             4                 0                 0   \n",
              "998          4             4                 0                 0   \n",
              "999          4             4                 1                 1   \n",
              "\n",
              "     is_home_5g_cover  is_work_5g_cover_l01  is_home_5g_cover_l01  \\\n",
              "0                   0                     0                     0   \n",
              "1                   0                     0                     0   \n",
              "2                   1                     1                     1   \n",
              "3                   0                     0                     0   \n",
              "4                   0                     0                     0   \n",
              "..                ...                   ...                   ...   \n",
              "995                 0                     0                     0   \n",
              "996                 0                     0                     0   \n",
              "997                 0                     0                     0   \n",
              "998                 0                     0                     0   \n",
              "999                 1                     1                     1   \n",
              "\n",
              "     is_work_5g_cover_l02  is_home_5g_cover_l02  activity_type  is_act_expire  \\\n",
              "0                       0                     0              4              1   \n",
              "1                       0                     0              4              1   \n",
              "2                       1                     1              3              2   \n",
              "3                       0                     0              5              3   \n",
              "4                       0                     0              4              1   \n",
              "..                    ...                   ...            ...            ...   \n",
              "995                     0                     0              4              1   \n",
              "996                     0                     0              5              3   \n",
              "997                     0                     0              4              1   \n",
              "998                     0                     0              4              1   \n",
              "999                     1                     1              4              1   \n",
              "\n",
              "     comp_type  city_5g_ratio  city_level  \n",
              "0            1       0.000512           7  \n",
              "1            1       0.000356           3  \n",
              "2            6       0.000490           3  \n",
              "3            6       0.000328           2  \n",
              "4            1       0.000830           6  \n",
              "..         ...            ...         ...  \n",
              "995          6       0.000094           7  \n",
              "996          6       0.000019           7  \n",
              "997          1       0.000094           7  \n",
              "998          1       0.000675           6  \n",
              "999          2       0.001015           1  \n",
              "\n",
              "[1000 rows x 20 columns]"
            ],
            "text/html": [
              "\n",
              "  <div id=\"df-fbf06b40-5752-42a3-b567-2e9179c80445\">\n",
              "    <div class=\"colab-df-container\">\n",
              "      <div>\n",
              "<style scoped>\n",
              "    .dataframe tbody tr th:only-of-type {\n",
              "        vertical-align: middle;\n",
              "    }\n",
              "\n",
              "    .dataframe tbody tr th {\n",
              "        vertical-align: top;\n",
              "    }\n",
              "\n",
              "    .dataframe thead th {\n",
              "        text-align: right;\n",
              "    }\n",
              "</style>\n",
              "<table border=\"1\" class=\"dataframe\">\n",
              "  <thead>\n",
              "    <tr style=\"text-align: right;\">\n",
              "      <th></th>\n",
              "      <th>prov_id</th>\n",
              "      <th>chnl_type</th>\n",
              "      <th>service_type</th>\n",
              "      <th>product_type</th>\n",
              "      <th>sex</th>\n",
              "      <th>manu_name</th>\n",
              "      <th>term_type</th>\n",
              "      <th>max_rat_flag</th>\n",
              "      <th>is_5g_base_cover</th>\n",
              "      <th>is_work_5g_cover</th>\n",
              "      <th>is_home_5g_cover</th>\n",
              "      <th>is_work_5g_cover_l01</th>\n",
              "      <th>is_home_5g_cover_l01</th>\n",
              "      <th>is_work_5g_cover_l02</th>\n",
              "      <th>is_home_5g_cover_l02</th>\n",
              "      <th>activity_type</th>\n",
              "      <th>is_act_expire</th>\n",
              "      <th>comp_type</th>\n",
              "      <th>city_5g_ratio</th>\n",
              "      <th>city_level</th>\n",
              "    </tr>\n",
              "  </thead>\n",
              "  <tbody>\n",
              "    <tr>\n",
              "      <th>0</th>\n",
              "      <td>81</td>\n",
              "      <td>7</td>\n",
              "      <td>4</td>\n",
              "      <td>5</td>\n",
              "      <td>1</td>\n",
              "      <td>3</td>\n",
              "      <td>4</td>\n",
              "      <td>4</td>\n",
              "      <td>0</td>\n",
              "      <td>0</td>\n",
              "      <td>0</td>\n",
              "      <td>0</td>\n",
              "      <td>0</td>\n",
              "      <td>0</td>\n",
              "      <td>0</td>\n",
              "      <td>4</td>\n",
              "      <td>1</td>\n",
              "      <td>1</td>\n",
              "      <td>0.000512</td>\n",
              "      <td>7</td>\n",
              "    </tr>\n",
              "    <tr>\n",
              "      <th>1</th>\n",
              "      <td>36</td>\n",
              "      <td>7</td>\n",
              "      <td>4</td>\n",
              "      <td>3</td>\n",
              "      <td>1</td>\n",
              "      <td>6</td>\n",
              "      <td>4</td>\n",
              "      <td>4</td>\n",
              "      <td>0</td>\n",
              "      <td>0</td>\n",
              "      <td>0</td>\n",
              "      <td>0</td>\n",
              "      <td>0</td>\n",
              "      <td>0</td>\n",
              "      <td>0</td>\n",
              "      <td>4</td>\n",
              "      <td>1</td>\n",
              "      <td>1</td>\n",
              "      <td>0.000356</td>\n",
              "      <td>3</td>\n",
              "    </tr>\n",
              "    <tr>\n",
              "      <th>2</th>\n",
              "      <td>76</td>\n",
              "      <td>7</td>\n",
              "      <td>4</td>\n",
              "      <td>4</td>\n",
              "      <td>0</td>\n",
              "      <td>5</td>\n",
              "      <td>4</td>\n",
              "      <td>4</td>\n",
              "      <td>1</td>\n",
              "      <td>1</td>\n",
              "      <td>1</td>\n",
              "      <td>1</td>\n",
              "      <td>1</td>\n",
              "      <td>1</td>\n",
              "      <td>1</td>\n",
              "      <td>3</td>\n",
              "      <td>2</td>\n",
              "      <td>6</td>\n",
              "      <td>0.000490</td>\n",
              "      <td>3</td>\n",
              "    </tr>\n",
              "    <tr>\n",
              "      <th>3</th>\n",
              "      <td>84</td>\n",
              "      <td>10</td>\n",
              "      <td>4</td>\n",
              "      <td>5</td>\n",
              "      <td>0</td>\n",
              "      <td>1</td>\n",
              "      <td>1</td>\n",
              "      <td>4</td>\n",
              "      <td>0</td>\n",
              "      <td>0</td>\n",
              "      <td>0</td>\n",
              "      <td>0</td>\n",
              "      <td>0</td>\n",
              "      <td>0</td>\n",
              "      <td>0</td>\n",
              "      <td>5</td>\n",
              "      <td>3</td>\n",
              "      <td>6</td>\n",
              "      <td>0.000328</td>\n",
              "      <td>2</td>\n",
              "    </tr>\n",
              "    <tr>\n",
              "      <th>4</th>\n",
              "      <td>85</td>\n",
              "      <td>7</td>\n",
              "      <td>4</td>\n",
              "      <td>3</td>\n",
              "      <td>1</td>\n",
              "      <td>6</td>\n",
              "      <td>4</td>\n",
              "      <td>4</td>\n",
              "      <td>0</td>\n",
              "      <td>0</td>\n",
              "      <td>0</td>\n",
              "      <td>0</td>\n",
              "      <td>0</td>\n",
              "      <td>0</td>\n",
              "      <td>0</td>\n",
              "      <td>4</td>\n",
              "      <td>1</td>\n",
              "      <td>1</td>\n",
              "      <td>0.000830</td>\n",
              "      <td>6</td>\n",
              "    </tr>\n",
              "    <tr>\n",
              "      <th>...</th>\n",
              "      <td>...</td>\n",
              "      <td>...</td>\n",
              "      <td>...</td>\n",
              "      <td>...</td>\n",
              "      <td>...</td>\n",
              "      <td>...</td>\n",
              "      <td>...</td>\n",
              "      <td>...</td>\n",
              "      <td>...</td>\n",
              "      <td>...</td>\n",
              "      <td>...</td>\n",
              "      <td>...</td>\n",
              "      <td>...</td>\n",
              "      <td>...</td>\n",
              "      <td>...</td>\n",
              "      <td>...</td>\n",
              "      <td>...</td>\n",
              "      <td>...</td>\n",
              "      <td>...</td>\n",
              "      <td>...</td>\n",
              "    </tr>\n",
              "    <tr>\n",
              "      <th>995</th>\n",
              "      <td>76</td>\n",
              "      <td>10</td>\n",
              "      <td>4</td>\n",
              "      <td>4</td>\n",
              "      <td>0</td>\n",
              "      <td>2</td>\n",
              "      <td>4</td>\n",
              "      <td>4</td>\n",
              "      <td>0</td>\n",
              "      <td>0</td>\n",
              "      <td>0</td>\n",
              "      <td>0</td>\n",
              "      <td>0</td>\n",
              "      <td>0</td>\n",
              "      <td>0</td>\n",
              "      <td>4</td>\n",
              "      <td>1</td>\n",
              "      <td>6</td>\n",
              "      <td>0.000094</td>\n",
              "      <td>7</td>\n",
              "    </tr>\n",
              "    <tr>\n",
              "      <th>996</th>\n",
              "      <td>18</td>\n",
              "      <td>7</td>\n",
              "      <td>1</td>\n",
              "      <td>2</td>\n",
              "      <td>1</td>\n",
              "      <td>2</td>\n",
              "      <td>4</td>\n",
              "      <td>4</td>\n",
              "      <td>0</td>\n",
              "      <td>0</td>\n",
              "      <td>0</td>\n",
              "      <td>0</td>\n",
              "      <td>0</td>\n",
              "      <td>0</td>\n",
              "      <td>0</td>\n",
              "      <td>5</td>\n",
              "      <td>3</td>\n",
              "      <td>6</td>\n",
              "      <td>0.000019</td>\n",
              "      <td>7</td>\n",
              "    </tr>\n",
              "    <tr>\n",
              "      <th>997</th>\n",
              "      <td>76</td>\n",
              "      <td>10</td>\n",
              "      <td>4</td>\n",
              "      <td>5</td>\n",
              "      <td>1</td>\n",
              "      <td>3</td>\n",
              "      <td>4</td>\n",
              "      <td>4</td>\n",
              "      <td>0</td>\n",
              "      <td>0</td>\n",
              "      <td>0</td>\n",
              "      <td>0</td>\n",
              "      <td>0</td>\n",
              "      <td>0</td>\n",
              "      <td>0</td>\n",
              "      <td>4</td>\n",
              "      <td>1</td>\n",
              "      <td>1</td>\n",
              "      <td>0.000094</td>\n",
              "      <td>7</td>\n",
              "    </tr>\n",
              "    <tr>\n",
              "      <th>998</th>\n",
              "      <td>51</td>\n",
              "      <td>9</td>\n",
              "      <td>4</td>\n",
              "      <td>3</td>\n",
              "      <td>1</td>\n",
              "      <td>5</td>\n",
              "      <td>4</td>\n",
              "      <td>4</td>\n",
              "      <td>0</td>\n",
              "      <td>0</td>\n",
              "      <td>0</td>\n",
              "      <td>0</td>\n",
              "      <td>0</td>\n",
              "      <td>0</td>\n",
              "      <td>0</td>\n",
              "      <td>4</td>\n",
              "      <td>1</td>\n",
              "      <td>1</td>\n",
              "      <td>0.000675</td>\n",
              "      <td>6</td>\n",
              "    </tr>\n",
              "    <tr>\n",
              "      <th>999</th>\n",
              "      <td>11</td>\n",
              "      <td>10</td>\n",
              "      <td>4</td>\n",
              "      <td>5</td>\n",
              "      <td>1</td>\n",
              "      <td>5</td>\n",
              "      <td>4</td>\n",
              "      <td>4</td>\n",
              "      <td>1</td>\n",
              "      <td>1</td>\n",
              "      <td>1</td>\n",
              "      <td>1</td>\n",
              "      <td>1</td>\n",
              "      <td>1</td>\n",
              "      <td>1</td>\n",
              "      <td>4</td>\n",
              "      <td>1</td>\n",
              "      <td>2</td>\n",
              "      <td>0.001015</td>\n",
              "      <td>1</td>\n",
              "    </tr>\n",
              "  </tbody>\n",
              "</table>\n",
              "<p>1000 rows × 20 columns</p>\n",
              "</div>\n",
              "      <button class=\"colab-df-convert\" onclick=\"convertToInteractive('df-fbf06b40-5752-42a3-b567-2e9179c80445')\"\n",
              "              title=\"Convert this dataframe to an interactive table.\"\n",
              "              style=\"display:none;\">\n",
              "        \n",
              "  <svg xmlns=\"http://www.w3.org/2000/svg\" height=\"24px\"viewBox=\"0 0 24 24\"\n",
              "       width=\"24px\">\n",
              "    <path d=\"M0 0h24v24H0V0z\" fill=\"none\"/>\n",
              "    <path d=\"M18.56 5.44l.94 2.06.94-2.06 2.06-.94-2.06-.94-.94-2.06-.94 2.06-2.06.94zm-11 1L8.5 8.5l.94-2.06 2.06-.94-2.06-.94L8.5 2.5l-.94 2.06-2.06.94zm10 10l.94 2.06.94-2.06 2.06-.94-2.06-.94-.94-2.06-.94 2.06-2.06.94z\"/><path d=\"M17.41 7.96l-1.37-1.37c-.4-.4-.92-.59-1.43-.59-.52 0-1.04.2-1.43.59L10.3 9.45l-7.72 7.72c-.78.78-.78 2.05 0 2.83L4 21.41c.39.39.9.59 1.41.59.51 0 1.02-.2 1.41-.59l7.78-7.78 2.81-2.81c.8-.78.8-2.07 0-2.86zM5.41 20L4 18.59l7.72-7.72 1.47 1.35L5.41 20z\"/>\n",
              "  </svg>\n",
              "      </button>\n",
              "      \n",
              "  <style>\n",
              "    .colab-df-container {\n",
              "      display:flex;\n",
              "      flex-wrap:wrap;\n",
              "      gap: 12px;\n",
              "    }\n",
              "\n",
              "    .colab-df-convert {\n",
              "      background-color: #E8F0FE;\n",
              "      border: none;\n",
              "      border-radius: 50%;\n",
              "      cursor: pointer;\n",
              "      display: none;\n",
              "      fill: #1967D2;\n",
              "      height: 32px;\n",
              "      padding: 0 0 0 0;\n",
              "      width: 32px;\n",
              "    }\n",
              "\n",
              "    .colab-df-convert:hover {\n",
              "      background-color: #E2EBFA;\n",
              "      box-shadow: 0px 1px 2px rgba(60, 64, 67, 0.3), 0px 1px 3px 1px rgba(60, 64, 67, 0.15);\n",
              "      fill: #174EA6;\n",
              "    }\n",
              "\n",
              "    [theme=dark] .colab-df-convert {\n",
              "      background-color: #3B4455;\n",
              "      fill: #D2E3FC;\n",
              "    }\n",
              "\n",
              "    [theme=dark] .colab-df-convert:hover {\n",
              "      background-color: #434B5C;\n",
              "      box-shadow: 0px 1px 3px 1px rgba(0, 0, 0, 0.15);\n",
              "      filter: drop-shadow(0px 1px 2px rgba(0, 0, 0, 0.3));\n",
              "      fill: #FFFFFF;\n",
              "    }\n",
              "  </style>\n",
              "\n",
              "      <script>\n",
              "        const buttonEl =\n",
              "          document.querySelector('#df-fbf06b40-5752-42a3-b567-2e9179c80445 button.colab-df-convert');\n",
              "        buttonEl.style.display =\n",
              "          google.colab.kernel.accessAllowed ? 'block' : 'none';\n",
              "\n",
              "        async function convertToInteractive(key) {\n",
              "          const element = document.querySelector('#df-fbf06b40-5752-42a3-b567-2e9179c80445');\n",
              "          const dataTable =\n",
              "            await google.colab.kernel.invokeFunction('convertToInteractive',\n",
              "                                                     [key], {});\n",
              "          if (!dataTable) return;\n",
              "\n",
              "          const docLinkHtml = 'Like what you see? Visit the ' +\n",
              "            '<a target=\"_blank\" href=https://colab.research.google.com/notebooks/data_table.ipynb>data table notebook</a>'\n",
              "            + ' to learn more about interactive tables.';\n",
              "          element.innerHTML = '';\n",
              "          dataTable['output_type'] = 'display_data';\n",
              "          await google.colab.output.renderOutput(dataTable, element);\n",
              "          const docLink = document.createElement('div');\n",
              "          docLink.innerHTML = docLinkHtml;\n",
              "          element.appendChild(docLink);\n",
              "        }\n",
              "      </script>\n",
              "    </div>\n",
              "  </div>\n",
              "  "
            ]
          },
          "metadata": {},
          "execution_count": 10
        }
      ]
    },
    {
      "cell_type": "code",
      "source": [
        "y"
      ],
      "metadata": {
        "colab": {
          "base_uri": "https://localhost:8080/"
        },
        "id": "p0HyMTi-bja8",
        "outputId": "141be82c-a772-4c63-a1f0-645b8e9d0dfd"
      },
      "execution_count": 11,
      "outputs": [
        {
          "output_type": "execute_result",
          "data": {
            "text/plain": [
              "0      1\n",
              "1      0\n",
              "2      0\n",
              "3      0\n",
              "4      0\n",
              "      ..\n",
              "995    0\n",
              "996    0\n",
              "997    0\n",
              "998    0\n",
              "999    0\n",
              "Name: is_5g, Length: 1000, dtype: int64"
            ]
          },
          "metadata": {},
          "execution_count": 11
        }
      ]
    },
    {
      "cell_type": "code",
      "source": [
        "#data normalisation\n",
        "from sklearn.preprocessing import StandardScaler\n",
        "x = StandardScaler().fit_transform(x)"
      ],
      "metadata": {
        "id": "uCYRzGcIbtVf"
      },
      "execution_count": 12,
      "outputs": []
    },
    {
      "cell_type": "code",
      "source": [
        "#Train Test Splitting\n",
        "\n",
        "from sklearn.model_selection import train_test_split\n",
        "from sklearn.metrics import classification_report"
      ],
      "metadata": {
        "id": "yWAh0s-ncHOQ"
      },
      "execution_count": 13,
      "outputs": []
    },
    {
      "cell_type": "code",
      "source": [
        "x_train, x_test, y_train, y_test = train_test_split(x, y, test_size = .20, random_state= 40)"
      ],
      "metadata": {
        "id": "5YRhcoGclpff"
      },
      "execution_count": 14,
      "outputs": []
    },
    {
      "cell_type": "code",
      "source": [
        "#Simple logistic regression\n",
        "from sklearn.linear_model import LogisticRegression\n",
        "model1 = LogisticRegression()\n",
        "model1.fit(x_train, y_train)\n",
        "pred1 = model1.predict(x_test)\n",
        "print(classification_report(y_test,pred1))"
      ],
      "metadata": {
        "colab": {
          "base_uri": "https://localhost:8080/"
        },
        "id": "FYV2xH35mNVA",
        "outputId": "2c1135ba-9eed-490a-9e23-8ba73768b61c"
      },
      "execution_count": 73,
      "outputs": [
        {
          "output_type": "stream",
          "name": "stdout",
          "text": [
            "              precision    recall  f1-score   support\n",
            "\n",
            "           0       0.98      1.00      0.99       196\n",
            "           1       0.00      0.00      0.00         4\n",
            "\n",
            "    accuracy                           0.98       200\n",
            "   macro avg       0.49      0.50      0.49       200\n",
            "weighted avg       0.96      0.98      0.97       200\n",
            "\n"
          ]
        },
        {
          "output_type": "stream",
          "name": "stderr",
          "text": [
            "/usr/local/lib/python3.7/dist-packages/sklearn/metrics/_classification.py:1318: UndefinedMetricWarning: Precision and F-score are ill-defined and being set to 0.0 in labels with no predicted samples. Use `zero_division` parameter to control this behavior.\n",
            "  _warn_prf(average, modifier, msg_start, len(result))\n",
            "/usr/local/lib/python3.7/dist-packages/sklearn/metrics/_classification.py:1318: UndefinedMetricWarning: Precision and F-score are ill-defined and being set to 0.0 in labels with no predicted samples. Use `zero_division` parameter to control this behavior.\n",
            "  _warn_prf(average, modifier, msg_start, len(result))\n",
            "/usr/local/lib/python3.7/dist-packages/sklearn/metrics/_classification.py:1318: UndefinedMetricWarning: Precision and F-score are ill-defined and being set to 0.0 in labels with no predicted samples. Use `zero_division` parameter to control this behavior.\n",
            "  _warn_prf(average, modifier, msg_start, len(result))\n"
          ]
        }
      ]
    },
    {
      "cell_type": "code",
      "source": [
        "from sklearn.tree import DecisionTreeClassifier\n",
        "model2 = DecisionTreeClassifier()\n",
        "model2.fit(x_train, y_train)\n",
        "pred2 = model2.predict(x_test)\n",
        "print(classification_report(y_test, pred2))"
      ],
      "metadata": {
        "colab": {
          "base_uri": "https://localhost:8080/"
        },
        "id": "s7yeuMMtm9FZ",
        "outputId": "dd9ed743-484f-4bf2-8591-706884a887cd"
      },
      "execution_count": 74,
      "outputs": [
        {
          "output_type": "stream",
          "name": "stdout",
          "text": [
            "              precision    recall  f1-score   support\n",
            "\n",
            "           0       0.98      0.95      0.97       196\n",
            "           1       0.09      0.25      0.13         4\n",
            "\n",
            "    accuracy                           0.94       200\n",
            "   macro avg       0.54      0.60      0.55       200\n",
            "weighted avg       0.97      0.94      0.95       200\n",
            "\n"
          ]
        }
      ]
    },
    {
      "cell_type": "code",
      "source": [
        "from sklearn.ensemble import RandomForestClassifier\n",
        "model3 = RandomForestClassifier()\n",
        "model3.fit(x_train, y_train)\n",
        "pred3 = model3.predict(x_test)\n",
        "print(classification_report(y_test, pred3))"
      ],
      "metadata": {
        "colab": {
          "base_uri": "https://localhost:8080/"
        },
        "id": "4QCPbVnOmR24",
        "outputId": "4b51fd9a-485d-4092-82a0-de153f9ea730"
      },
      "execution_count": 75,
      "outputs": [
        {
          "output_type": "stream",
          "name": "stdout",
          "text": [
            "              precision    recall  f1-score   support\n",
            "\n",
            "           0       0.98      1.00      0.99       196\n",
            "           1       0.00      0.00      0.00         4\n",
            "\n",
            "    accuracy                           0.98       200\n",
            "   macro avg       0.49      0.50      0.49       200\n",
            "weighted avg       0.96      0.98      0.97       200\n",
            "\n"
          ]
        },
        {
          "output_type": "stream",
          "name": "stderr",
          "text": [
            "/usr/local/lib/python3.7/dist-packages/sklearn/metrics/_classification.py:1318: UndefinedMetricWarning: Precision and F-score are ill-defined and being set to 0.0 in labels with no predicted samples. Use `zero_division` parameter to control this behavior.\n",
            "  _warn_prf(average, modifier, msg_start, len(result))\n",
            "/usr/local/lib/python3.7/dist-packages/sklearn/metrics/_classification.py:1318: UndefinedMetricWarning: Precision and F-score are ill-defined and being set to 0.0 in labels with no predicted samples. Use `zero_division` parameter to control this behavior.\n",
            "  _warn_prf(average, modifier, msg_start, len(result))\n",
            "/usr/local/lib/python3.7/dist-packages/sklearn/metrics/_classification.py:1318: UndefinedMetricWarning: Precision and F-score are ill-defined and being set to 0.0 in labels with no predicted samples. Use `zero_division` parameter to control this behavior.\n",
            "  _warn_prf(average, modifier, msg_start, len(result))\n"
          ]
        }
      ]
    },
    {
      "cell_type": "code",
      "source": [
        "import xgboost\n",
        "model4 = xgboost.XGBClassifier()\n",
        "model4.fit(x_train,y_train)\n",
        "pred4 = model4.predict(x_test)\n",
        "print(classification_report(y_test, pred4))"
      ],
      "metadata": {
        "colab": {
          "base_uri": "https://localhost:8080/"
        },
        "id": "Bl_8-_2RnW2y",
        "outputId": "1521014b-8272-43fb-dc97-384782d18b87"
      },
      "execution_count": 76,
      "outputs": [
        {
          "output_type": "stream",
          "name": "stdout",
          "text": [
            "              precision    recall  f1-score   support\n",
            "\n",
            "           0       0.98      1.00      0.99       196\n",
            "           1       0.00      0.00      0.00         4\n",
            "\n",
            "    accuracy                           0.98       200\n",
            "   macro avg       0.49      0.50      0.49       200\n",
            "weighted avg       0.96      0.98      0.97       200\n",
            "\n"
          ]
        },
        {
          "output_type": "stream",
          "name": "stderr",
          "text": [
            "/usr/local/lib/python3.7/dist-packages/sklearn/metrics/_classification.py:1318: UndefinedMetricWarning: Precision and F-score are ill-defined and being set to 0.0 in labels with no predicted samples. Use `zero_division` parameter to control this behavior.\n",
            "  _warn_prf(average, modifier, msg_start, len(result))\n",
            "/usr/local/lib/python3.7/dist-packages/sklearn/metrics/_classification.py:1318: UndefinedMetricWarning: Precision and F-score are ill-defined and being set to 0.0 in labels with no predicted samples. Use `zero_division` parameter to control this behavior.\n",
            "  _warn_prf(average, modifier, msg_start, len(result))\n",
            "/usr/local/lib/python3.7/dist-packages/sklearn/metrics/_classification.py:1318: UndefinedMetricWarning: Precision and F-score are ill-defined and being set to 0.0 in labels with no predicted samples. Use `zero_division` parameter to control this behavior.\n",
            "  _warn_prf(average, modifier, msg_start, len(result))\n"
          ]
        }
      ]
    },
    {
      "cell_type": "code",
      "source": [
        "df_sample = pd.read_csv('sample.csv')"
      ],
      "metadata": {
        "id": "B-WNJKJrnkB-"
      },
      "execution_count": 77,
      "outputs": []
    },
    {
      "cell_type": "code",
      "source": [
        "model_compare= pd.DataFrame(list(zip(df_sample['is_5g'],pred1, pred2, pred3, pred4)),\n",
        "               columns =['ActualSet','LogisticRegression','DecisionTree','RandomForest','XGB'])"
      ],
      "metadata": {
        "id": "ahFQQEyFqGUb"
      },
      "execution_count": 78,
      "outputs": []
    },
    {
      "cell_type": "code",
      "source": [
        "population=model_compare.shape[0]"
      ],
      "metadata": {
        "id": "c7sMJlxzqSGT"
      },
      "execution_count": 79,
      "outputs": []
    },
    {
      "cell_type": "code",
      "source": [
        "elements,count=\\\n",
        "np.unique(np.where(model_compare['LogisticRegression'] == model_compare['ActualSet'],True,False),return_counts=True)\n",
        "print('Count Of Correct And False: Logistic Regression')\n",
        "print('Correct Predictions: {} - False Predictions: {}'.format(count[0],count[0]-model_compare['LogisticRegression'].shape[0]))\n",
        "correct1=count[0]*100/population"
      ],
      "metadata": {
        "colab": {
          "base_uri": "https://localhost:8080/"
        },
        "id": "LnNMxO78qqId",
        "outputId": "3b191fb2-1f55-437d-cc23-3faf9f34ee59"
      },
      "execution_count": 80,
      "outputs": [
        {
          "output_type": "stream",
          "name": "stdout",
          "text": [
            "Count Of Correct And False: Logistic Regression\n",
            "Correct Predictions: 200 - False Predictions: 0\n"
          ]
        }
      ]
    },
    {
      "cell_type": "code",
      "source": [
        "elements,count=\\\n",
        "np.unique(np.where(model_compare['DecisionTree'] == model_compare['ActualSet'],True,False),return_counts=True)\n",
        "print('Count Of Correct And False: Decision Tree')\n",
        "print('Correct Predictions: {} - False Predictions: {}'.format(count[1], count[0]))\n",
        "correct2=count[1]*100/population"
      ],
      "metadata": {
        "colab": {
          "base_uri": "https://localhost:8080/"
        },
        "id": "SQRnu0Btq0k6",
        "outputId": "66e63de0-2659-4e03-eda3-fbca69a125a1"
      },
      "execution_count": 81,
      "outputs": [
        {
          "output_type": "stream",
          "name": "stdout",
          "text": [
            "Count Of Correct And False: Decision Tree\n",
            "Correct Predictions: 189 - False Predictions: 11\n"
          ]
        }
      ]
    },
    {
      "cell_type": "code",
      "source": [
        "elements,count=\\\n",
        "np.unique(np.where(model_compare['RandomForest'] == model_compare['ActualSet'],True,False),return_counts=True)\n",
        "print('Count Of Correct And False: Random Forest')\n",
        "print('Correct Predictions: {} - False Predictions: {}'.format(count[0], count[0]-model_compare['RandomForest'].shape[0]))\n",
        "correct3=count[0]*100/population"
      ],
      "metadata": {
        "colab": {
          "base_uri": "https://localhost:8080/"
        },
        "id": "4fpBUS0xsSlU",
        "outputId": "9cf8178e-9205-4c70-ab9b-0fddd3128de8"
      },
      "execution_count": 82,
      "outputs": [
        {
          "output_type": "stream",
          "name": "stdout",
          "text": [
            "Count Of Correct And False: Random Forest\n",
            "Correct Predictions: 200 - False Predictions: 0\n"
          ]
        }
      ]
    },
    {
      "cell_type": "code",
      "source": [
        "elements,count=\\\n",
        "np.unique(np.where(model_compare['XGB'] == model_compare['ActualSet'],True,False),return_counts=True)\n",
        "print('Count Of Correct And False: XGBoost')\n",
        "print('Correct Predictions: {} - False Predictions: {}'.format(count[0], count[0]-model_compare['XGB'].shape[0]))\n",
        "correct4=count[0]*100/population"
      ],
      "metadata": {
        "colab": {
          "base_uri": "https://localhost:8080/"
        },
        "id": "ClTbMBWEsePg",
        "outputId": "35641f79-48f0-48b3-c65a-a63a28031dcd"
      },
      "execution_count": 88,
      "outputs": [
        {
          "output_type": "stream",
          "name": "stdout",
          "text": [
            "Count Of Correct And False: XGBoost\n",
            "Correct Predictions: 200 - False Predictions: 0\n"
          ]
        }
      ]
    },
    {
      "cell_type": "code",
      "source": [
        "acc={'Logistic Regression':correct1,'Decision Tree':correct2,'Random Forest':correct3,'XGBoost':correct4}"
      ],
      "metadata": {
        "id": "FcAgbwW8vn_h"
      },
      "execution_count": 122,
      "outputs": []
    },
    {
      "cell_type": "code",
      "source": [
        "acc=sorted(acc.items(), reverse=True)"
      ],
      "metadata": {
        "id": "8z8ZJgmLw5k_"
      },
      "execution_count": 129,
      "outputs": []
    },
    {
      "cell_type": "code",
      "source": [
        "acc=dict(acc)"
      ],
      "metadata": {
        "id": "TvLgK0-Cw7_P"
      },
      "execution_count": 127,
      "outputs": []
    },
    {
      "cell_type": "code",
      "source": [
        "acc"
      ],
      "metadata": {
        "colab": {
          "base_uri": "https://localhost:8080/"
        },
        "id": "gZeYGcjG0vdM",
        "outputId": "c18e2d05-babd-4d5c-9ac9-43d2adbed17b"
      },
      "execution_count": 128,
      "outputs": [
        {
          "output_type": "execute_result",
          "data": {
            "text/plain": [
              "{'XGBoost': 100.0,\n",
              " 'Random Forest': 100.0,\n",
              " 'Logistic Regression': 100.0,\n",
              " 'Decision Tree': 94.5}"
            ]
          },
          "metadata": {},
          "execution_count": 128
        }
      ]
    },
    {
      "cell_type": "code",
      "source": [
        "x, y = zip(*acc)"
      ],
      "metadata": {
        "id": "3dL3qwsdzuBA"
      },
      "execution_count": 130,
      "outputs": []
    },
    {
      "cell_type": "code",
      "source": [
        "plt.figure(figsize=[25,10])\n",
        "plt.plot(x, y)\n",
        "plt.ylabel('Accuracy percentage',fontsize=30)\n",
        "plt.xlabel('ML Classifiers',fontsize=30)\n",
        "plt.xticks(fontsize=20)\n",
        "plt.yticks(fontsize=20)\n",
        "plt.title('5G user prediction using machine learning',fontsize=50)\n",
        "plt.grid()\n",
        "plt.tight_layout()"
      ],
      "metadata": {
        "colab": {
          "base_uri": "https://localhost:8080/",
          "height": 267
        },
        "id": "Akr-X55Cw9-7",
        "outputId": "47a350ea-a307-4cd0-bca5-de702c44faa1"
      },
      "execution_count": 134,
      "outputs": [
        {
          "output_type": "display_data",
          "data": {
            "text/plain": [
              "<Figure size 1800x720 with 1 Axes>"
            ],
            "image/png": "[encoded data removed]"
          },
          "metadata": {
            "needs_background": "light"
          }
        }
      ]
    },
    {
      "cell_type": "code",
      "source": [],
      "metadata": {
        "id": "KvFvTzNyxAqg"
      },
      "execution_count": null,
      "outputs": []
    }
  ]
}