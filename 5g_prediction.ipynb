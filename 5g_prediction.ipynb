{
  "nbformat": 4,
  "nbformat_minor": 0,
  "metadata": {
    "colab": {
      "provenance": [],
      "collapsed_sections": []
    },
    "kernelspec": {
      "name": "python3",
      "display_name": "Python 3"
    },
    "language_info": {
      "name": "python"
    }
  },
  "cells": [
    {
      "cell_type": "code",
      "execution_count": null,
      "metadata": {
        "id": "h5dlAWvQaN-s"
      },
      "outputs": [],
      "source": [
        "import pandas as pd\n",
        "import numpy as np\n",
        "import matplotlib.pyplot as plt\n",
        "import seaborn as sb\n",
        "%matplotlib inline"
      ]
    },
    {
      "cell_type": "code",
      "source": [
        "df = pd.read_csv('train_data.csv')"
      ],
      "metadata": {
        "id": "lVKovfCoacdA"
      },
      "execution_count": null,
      "outputs": []
    },
    {
      "cell_type": "code",
      "source": [
        "df.head()"
      ],
      "metadata": {
        "colab": {
          "base_uri": "https://localhost:8080/",
          "height": 299
        },
        "id": "GQvksrc3aeco",
        "outputId": "1e22d687-f801-4394-e243-50855f359a2a"
      },
      "execution_count": null,
      "outputs": [
        {
          "output_type": "execute_result",
          "data": {
            "text/plain": [
              "   prov_id   area_id                           user_id  chnl_type  \\\n",
              "0       81  V0513400  5f950e1751acd6a6fa9bf88eb5560c78          7   \n",
              "1       36  V0330200  40015dd14b779d1d3d4e8e2536c6115a          7   \n",
              "2       76  V0410100  72f4ddd94488cc2f30bc83b82f55d3eb          7   \n",
              "3       84  V0610100  845983a3e7973b0016c73071f4c70c1c         10   \n",
              "4       85  V0520100  0326fbd12145c5378baf5168a8e9c8fe          7   \n",
              "\n",
              "   service_type  product_type  innet_months  total_times  total_flux  \\\n",
              "0             4             5            29     1.149441   10.864754   \n",
              "1             4             3             5     0.688337    6.814911   \n",
              "2             4             4           104     1.102318    9.492543   \n",
              "3             4             5            15     0.122139    5.008418   \n",
              "4             4             3            21     0.158738    9.745640   \n",
              "\n",
              "   total_fee  ...  active_days20  active_days21  active_days22  active_days23  \\\n",
              "0     93.000  ...              4              2              0              0   \n",
              "1     89.912  ...              2              2              0              0   \n",
              "2     62.670  ...              0              3              0              0   \n",
              "3     75.798  ...              4              4              0              0   \n",
              "4     54.500  ...             20              0              6              1   \n",
              "\n",
              "   game_app_flux  live_app_flux  video_app_flux  city_5g_ratio  city_level  \\\n",
              "0            0.0        0.00000     5526.494937       0.000512           7   \n",
              "1            0.0        0.00000        0.000000       0.000356           3   \n",
              "2            0.0        0.00000     1235.091633       0.000490           3   \n",
              "3            0.0        9.13548     1194.355876       0.000328           2   \n",
              "4            0.0        0.00000       26.783371       0.000830           6   \n",
              "\n",
              "   is_5g  \n",
              "0      1  \n",
              "1      0  \n",
              "2      0  \n",
              "3      0  \n",
              "4      0  \n",
              "\n",
              "[5 rows x 60 columns]"
            ],
            "text/html": [
              "\n",
              "  <div id=\"df-3e48e42d-7c0c-4c51-92a8-df9efbce3f7e\">\n",
              "    <div class=\"colab-df-container\">\n",
              "      <div>\n",
              "<style scoped>\n",
              "    .dataframe tbody tr th:only-of-type {\n",
              "        vertical-align: middle;\n",
              "    }\n",
              "\n",
              "    .dataframe tbody tr th {\n",
              "        vertical-align: top;\n",
              "    }\n",
              "\n",
              "    .dataframe thead th {\n",
              "        text-align: right;\n",
              "    }\n",
              "</style>\n",
              "<table border=\"1\" class=\"dataframe\">\n",
              "  <thead>\n",
              "    <tr style=\"text-align: right;\">\n",
              "      <th></th>\n",
              "      <th>prov_id</th>\n",
              "      <th>area_id</th>\n",
              "      <th>user_id</th>\n",
              "      <th>chnl_type</th>\n",
              "      <th>service_type</th>\n",
              "      <th>product_type</th>\n",
              "      <th>innet_months</th>\n",
              "      <th>total_times</th>\n",
              "      <th>total_flux</th>\n",
              "      <th>total_fee</th>\n",
              "      <th>...</th>\n",
              "      <th>active_days20</th>\n",
              "      <th>active_days21</th>\n",
              "      <th>active_days22</th>\n",
              "      <th>active_days23</th>\n",
              "      <th>game_app_flux</th>\n",
              "      <th>live_app_flux</th>\n",
              "      <th>video_app_flux</th>\n",
              "      <th>city_5g_ratio</th>\n",
              "      <th>city_level</th>\n",
              "      <th>is_5g</th>\n",
              "    </tr>\n",
              "  </thead>\n",
              "  <tbody>\n",
              "    <tr>\n",
              "      <th>0</th>\n",
              "      <td>81</td>\n",
              "      <td>V0513400</td>\n",
              "      <td>5f950e1751acd6a6fa9bf88eb5560c78</td>\n",
              "      <td>7</td>\n",
              "      <td>4</td>\n",
              "      <td>5</td>\n",
              "      <td>29</td>\n",
              "      <td>1.149441</td>\n",
              "      <td>10.864754</td>\n",
              "      <td>93.000</td>\n",
              "      <td>...</td>\n",
              "      <td>4</td>\n",
              "      <td>2</td>\n",
              "      <td>0</td>\n",
              "      <td>0</td>\n",
              "      <td>0.0</td>\n",
              "      <td>0.00000</td>\n",
              "      <td>5526.494937</td>\n",
              "      <td>0.000512</td>\n",
              "      <td>7</td>\n",
              "      <td>1</td>\n",
              "    </tr>\n",
              "    <tr>\n",
              "      <th>1</th>\n",
              "      <td>36</td>\n",
              "      <td>V0330200</td>\n",
              "      <td>40015dd14b779d1d3d4e8e2536c6115a</td>\n",
              "      <td>7</td>\n",
              "      <td>4</td>\n",
              "      <td>3</td>\n",
              "      <td>5</td>\n",
              "      <td>0.688337</td>\n",
              "      <td>6.814911</td>\n",
              "      <td>89.912</td>\n",
              "      <td>...</td>\n",
              "      <td>2</td>\n",
              "      <td>2</td>\n",
              "      <td>0</td>\n",
              "      <td>0</td>\n",
              "      <td>0.0</td>\n",
              "      <td>0.00000</td>\n",
              "      <td>0.000000</td>\n",
              "      <td>0.000356</td>\n",
              "      <td>3</td>\n",
              "      <td>0</td>\n",
              "    </tr>\n",
              "    <tr>\n",
              "      <th>2</th>\n",
              "      <td>76</td>\n",
              "      <td>V0410100</td>\n",
              "      <td>72f4ddd94488cc2f30bc83b82f55d3eb</td>\n",
              "      <td>7</td>\n",
              "      <td>4</td>\n",
              "      <td>4</td>\n",
              "      <td>104</td>\n",
              "      <td>1.102318</td>\n",
              "      <td>9.492543</td>\n",
              "      <td>62.670</td>\n",
              "      <td>...</td>\n",
              "      <td>0</td>\n",
              "      <td>3</td>\n",
              "      <td>0</td>\n",
              "      <td>0</td>\n",
              "      <td>0.0</td>\n",
              "      <td>0.00000</td>\n",
              "      <td>1235.091633</td>\n",
              "      <td>0.000490</td>\n",
              "      <td>3</td>\n",
              "      <td>0</td>\n",
              "    </tr>\n",
              "    <tr>\n",
              "      <th>3</th>\n",
              "      <td>84</td>\n",
              "      <td>V0610100</td>\n",
              "      <td>845983a3e7973b0016c73071f4c70c1c</td>\n",
              "      <td>10</td>\n",
              "      <td>4</td>\n",
              "      <td>5</td>\n",
              "      <td>15</td>\n",
              "      <td>0.122139</td>\n",
              "      <td>5.008418</td>\n",
              "      <td>75.798</td>\n",
              "      <td>...</td>\n",
              "      <td>4</td>\n",
              "      <td>4</td>\n",
              "      <td>0</td>\n",
              "      <td>0</td>\n",
              "      <td>0.0</td>\n",
              "      <td>9.13548</td>\n",
              "      <td>1194.355876</td>\n",
              "      <td>0.000328</td>\n",
              "      <td>2</td>\n",
              "      <td>0</td>\n",
              "    </tr>\n",
              "    <tr>\n",
              "      <th>4</th>\n",
              "      <td>85</td>\n",
              "      <td>V0520100</td>\n",
              "      <td>0326fbd12145c5378baf5168a8e9c8fe</td>\n",
              "      <td>7</td>\n",
              "      <td>4</td>\n",
              "      <td>3</td>\n",
              "      <td>21</td>\n",
              "      <td>0.158738</td>\n",
              "      <td>9.745640</td>\n",
              "      <td>54.500</td>\n",
              "      <td>...</td>\n",
              "      <td>20</td>\n",
              "      <td>0</td>\n",
              "      <td>6</td>\n",
              "      <td>1</td>\n",
              "      <td>0.0</td>\n",
              "      <td>0.00000</td>\n",
              "      <td>26.783371</td>\n",
              "      <td>0.000830</td>\n",
              "      <td>6</td>\n",
              "      <td>0</td>\n",
              "    </tr>\n",
              "  </tbody>\n",
              "</table>\n",
              "<p>5 rows × 60 columns</p>\n",
              "</div>\n",
              "      <button class=\"colab-df-convert\" onclick=\"convertToInteractive('df-3e48e42d-7c0c-4c51-92a8-df9efbce3f7e')\"\n",
              "              title=\"Convert this dataframe to an interactive table.\"\n",
              "              style=\"display:none;\">\n",
              "        \n",
              "  <svg xmlns=\"http://www.w3.org/2000/svg\" height=\"24px\"viewBox=\"0 0 24 24\"\n",
              "       width=\"24px\">\n",
              "    <path d=\"M0 0h24v24H0V0z\" fill=\"none\"/>\n",
              "    <path d=\"M18.56 5.44l.94 2.06.94-2.06 2.06-.94-2.06-.94-.94-2.06-.94 2.06-2.06.94zm-11 1L8.5 8.5l.94-2.06 2.06-.94-2.06-.94L8.5 2.5l-.94 2.06-2.06.94zm10 10l.94 2.06.94-2.06 2.06-.94-2.06-.94-.94-2.06-.94 2.06-2.06.94z\"/><path d=\"M17.41 7.96l-1.37-1.37c-.4-.4-.92-.59-1.43-.59-.52 0-1.04.2-1.43.59L10.3 9.45l-7.72 7.72c-.78.78-.78 2.05 0 2.83L4 21.41c.39.39.9.59 1.41.59.51 0 1.02-.2 1.41-.59l7.78-7.78 2.81-2.81c.8-.78.8-2.07 0-2.86zM5.41 20L4 18.59l7.72-7.72 1.47 1.35L5.41 20z\"/>\n",
              "  </svg>\n",
              "      </button>\n",
              "      \n",
              "  <style>\n",
              "    .colab-df-container {\n",
              "      display:flex;\n",
              "      flex-wrap:wrap;\n",
              "      gap: 12px;\n",
              "    }\n",
              "\n",
              "    .colab-df-convert {\n",
              "      background-color: #E8F0FE;\n",
              "      border: none;\n",
              "      border-radius: 50%;\n",
              "      cursor: pointer;\n",
              "      display: none;\n",
              "      fill: #1967D2;\n",
              "      height: 32px;\n",
              "      padding: 0 0 0 0;\n",
              "      width: 32px;\n",
              "    }\n",
              "\n",
              "    .colab-df-convert:hover {\n",
              "      background-color: #E2EBFA;\n",
              "      box-shadow: 0px 1px 2px rgba(60, 64, 67, 0.3), 0px 1px 3px 1px rgba(60, 64, 67, 0.15);\n",
              "      fill: #174EA6;\n",
              "    }\n",
              "\n",
              "    [theme=dark] .colab-df-convert {\n",
              "      background-color: #3B4455;\n",
              "      fill: #D2E3FC;\n",
              "    }\n",
              "\n",
              "    [theme=dark] .colab-df-convert:hover {\n",
              "      background-color: #434B5C;\n",
              "      box-shadow: 0px 1px 3px 1px rgba(0, 0, 0, 0.15);\n",
              "      filter: drop-shadow(0px 1px 2px rgba(0, 0, 0, 0.3));\n",
              "      fill: #FFFFFF;\n",
              "    }\n",
              "  </style>\n",
              "\n",
              "      <script>\n",
              "        const buttonEl =\n",
              "          document.querySelector('#df-3e48e42d-7c0c-4c51-92a8-df9efbce3f7e button.colab-df-convert');\n",
              "        buttonEl.style.display =\n",
              "          google.colab.kernel.accessAllowed ? 'block' : 'none';\n",
              "\n",
              "        async function convertToInteractive(key) {\n",
              "          const element = document.querySelector('#df-3e48e42d-7c0c-4c51-92a8-df9efbce3f7e');\n",
              "          const dataTable =\n",
              "            await google.colab.kernel.invokeFunction('convertToInteractive',\n",
              "                                                     [key], {});\n",
              "          if (!dataTable) return;\n",
              "\n",
              "          const docLinkHtml = 'Like what you see? Visit the ' +\n",
              "            '<a target=\"_blank\" href=https://colab.research.google.com/notebooks/data_table.ipynb>data table notebook</a>'\n",
              "            + ' to learn more about interactive tables.';\n",
              "          element.innerHTML = '';\n",
              "          dataTable['output_type'] = 'display_data';\n",
              "          await google.colab.output.renderOutput(dataTable, element);\n",
              "          const docLink = document.createElement('div');\n",
              "          docLink.innerHTML = docLinkHtml;\n",
              "          element.appendChild(docLink);\n",
              "        }\n",
              "      </script>\n",
              "    </div>\n",
              "  </div>\n",
              "  "
            ]
          },
          "metadata": {},
          "execution_count": 3
        }
      ]
    },
    {
      "cell_type": "code",
      "source": [
        "df.info()"
      ],
      "metadata": {
        "colab": {
          "base_uri": "https://localhost:8080/"
        },
        "id": "vmR6ryZ_alD7",
        "outputId": "d86c19be-2470-4d25-b32d-a76af74bd35c"
      },
      "execution_count": null,
      "outputs": [
        {
          "output_type": "stream",
          "name": "stdout",
          "text": [
            "<class 'pandas.core.frame.DataFrame'>\n",
            "RangeIndex: 1000 entries, 0 to 999\n",
            "Data columns (total 60 columns):\n",
            " #   Column                Non-Null Count  Dtype  \n",
            "---  ------                --------------  -----  \n",
            " 0   prov_id               1000 non-null   int64  \n",
            " 1   area_id               1000 non-null   object \n",
            " 2   user_id               1000 non-null   object \n",
            " 3   chnl_type             1000 non-null   int64  \n",
            " 4   service_type          1000 non-null   int64  \n",
            " 5   product_type          1000 non-null   int64  \n",
            " 6   innet_months          1000 non-null   int64  \n",
            " 7   total_times           1000 non-null   float64\n",
            " 8   total_flux            1000 non-null   float64\n",
            " 9   total_fee             1000 non-null   float64\n",
            " 10  pay_fee               1000 non-null   float64\n",
            " 11  sex                   1000 non-null   int64  \n",
            " 12  age                   1000 non-null   int64  \n",
            " 13  manu_name             1000 non-null   int64  \n",
            " 14  term_type             1000 non-null   int64  \n",
            " 15  max_rat_flag          1000 non-null   int64  \n",
            " 16  is_5g_base_cover      1000 non-null   int64  \n",
            " 17  is_work_5g_cover      1000 non-null   int64  \n",
            " 18  is_home_5g_cover      1000 non-null   int64  \n",
            " 19  is_work_5g_cover_l01  1000 non-null   int64  \n",
            " 20  is_home_5g_cover_l01  1000 non-null   int64  \n",
            " 21  is_work_5g_cover_l02  1000 non-null   int64  \n",
            " 22  is_home_5g_cover_l02  1000 non-null   int64  \n",
            " 23  activity_type         1000 non-null   int64  \n",
            " 24  is_act_expire         1000 non-null   int64  \n",
            " 25  comp_type             1000 non-null   int64  \n",
            " 26  call_days             1000 non-null   float64\n",
            " 27  re_call10             1000 non-null   float64\n",
            " 28  short_call10          1000 non-null   float64\n",
            " 29  long_call10           1000 non-null   float64\n",
            " 30  bank_cnt              1000 non-null   float64\n",
            " 31  active_days01         1000 non-null   int64  \n",
            " 32  active_days02         1000 non-null   int64  \n",
            " 33  active_days03         1000 non-null   int64  \n",
            " 34  active_days04         1000 non-null   int64  \n",
            " 35  active_days05         1000 non-null   int64  \n",
            " 36  active_days06         1000 non-null   int64  \n",
            " 37  active_days07         1000 non-null   int64  \n",
            " 38  active_days08         1000 non-null   int64  \n",
            " 39  active_days09         1000 non-null   int64  \n",
            " 40  active_days10         1000 non-null   int64  \n",
            " 41  active_days11         1000 non-null   int64  \n",
            " 42  active_days12         1000 non-null   int64  \n",
            " 43  active_days13         1000 non-null   int64  \n",
            " 44  active_days14         1000 non-null   int64  \n",
            " 45  active_days15         1000 non-null   int64  \n",
            " 46  active_days16         1000 non-null   int64  \n",
            " 47  active_days17         1000 non-null   int64  \n",
            " 48  active_days18         1000 non-null   int64  \n",
            " 49  active_days19         1000 non-null   int64  \n",
            " 50  active_days20         1000 non-null   int64  \n",
            " 51  active_days21         1000 non-null   int64  \n",
            " 52  active_days22         1000 non-null   int64  \n",
            " 53  active_days23         1000 non-null   int64  \n",
            " 54  game_app_flux         1000 non-null   float64\n",
            " 55  live_app_flux         1000 non-null   float64\n",
            " 56  video_app_flux        1000 non-null   float64\n",
            " 57  city_5g_ratio         1000 non-null   float64\n",
            " 58  city_level            1000 non-null   int64  \n",
            " 59  is_5g                 1000 non-null   int64  \n",
            "dtypes: float64(13), int64(45), object(2)\n",
            "memory usage: 468.9+ KB\n"
          ]
        }
      ]
    },
    {
      "cell_type": "code",
      "source": [
        "days=['active_days01', 'active_days02',\n",
        "       'active_days03', 'active_days04', 'active_days05', 'active_days06',\n",
        "       'active_days07', 'active_days08', 'active_days09', 'active_days10',\n",
        "       'active_days11', 'active_days12', 'active_days13', 'active_days14',\n",
        "       'active_days15', 'active_days16', 'active_days17', 'active_days18',\n",
        "       'active_days19', 'active_days20', 'active_days21', 'active_days22',\n",
        "       'active_days23']\n",
        "df.drop(columns=days,inplace=True)"
      ],
      "metadata": {
        "id": "7DCF1WzUcfbv"
      },
      "execution_count": null,
      "outputs": []
    },
    {
      "cell_type": "code",
      "source": [
        "df.info()"
      ],
      "metadata": {
        "colab": {
          "base_uri": "https://localhost:8080/"
        },
        "id": "33FpzYADchz3",
        "outputId": "40854259-dea6-403b-a3d3-254698d10d04"
      },
      "execution_count": null,
      "outputs": [
        {
          "output_type": "stream",
          "name": "stdout",
          "text": [
            "<class 'pandas.core.frame.DataFrame'>\n",
            "RangeIndex: 1000 entries, 0 to 999\n",
            "Data columns (total 37 columns):\n",
            " #   Column                Non-Null Count  Dtype  \n",
            "---  ------                --------------  -----  \n",
            " 0   prov_id               1000 non-null   int64  \n",
            " 1   area_id               1000 non-null   object \n",
            " 2   user_id               1000 non-null   object \n",
            " 3   chnl_type             1000 non-null   int64  \n",
            " 4   service_type          1000 non-null   int64  \n",
            " 5   product_type          1000 non-null   int64  \n",
            " 6   innet_months          1000 non-null   int64  \n",
            " 7   total_times           1000 non-null   float64\n",
            " 8   total_flux            1000 non-null   float64\n",
            " 9   total_fee             1000 non-null   float64\n",
            " 10  pay_fee               1000 non-null   float64\n",
            " 11  sex                   1000 non-null   int64  \n",
            " 12  age                   1000 non-null   int64  \n",
            " 13  manu_name             1000 non-null   int64  \n",
            " 14  term_type             1000 non-null   int64  \n",
            " 15  max_rat_flag          1000 non-null   int64  \n",
            " 16  is_5g_base_cover      1000 non-null   int64  \n",
            " 17  is_work_5g_cover      1000 non-null   int64  \n",
            " 18  is_home_5g_cover      1000 non-null   int64  \n",
            " 19  is_work_5g_cover_l01  1000 non-null   int64  \n",
            " 20  is_home_5g_cover_l01  1000 non-null   int64  \n",
            " 21  is_work_5g_cover_l02  1000 non-null   int64  \n",
            " 22  is_home_5g_cover_l02  1000 non-null   int64  \n",
            " 23  activity_type         1000 non-null   int64  \n",
            " 24  is_act_expire         1000 non-null   int64  \n",
            " 25  comp_type             1000 non-null   int64  \n",
            " 26  call_days             1000 non-null   float64\n",
            " 27  re_call10             1000 non-null   float64\n",
            " 28  short_call10          1000 non-null   float64\n",
            " 29  long_call10           1000 non-null   float64\n",
            " 30  bank_cnt              1000 non-null   float64\n",
            " 31  game_app_flux         1000 non-null   float64\n",
            " 32  live_app_flux         1000 non-null   float64\n",
            " 33  video_app_flux        1000 non-null   float64\n",
            " 34  city_5g_ratio         1000 non-null   float64\n",
            " 35  city_level            1000 non-null   int64  \n",
            " 36  is_5g                 1000 non-null   int64  \n",
            "dtypes: float64(13), int64(22), object(2)\n",
            "memory usage: 289.2+ KB\n"
          ]
        }
      ]
    },
    {
      "cell_type": "code",
      "source": [
        "df_final = df.drop(['user_id','area_id','innet_months','total_times','total_flux','total_fee','pay_fee','age','sex','call_days','re_call10','short_call10','long_call10','bank_cnt','game_app_flux','live_app_flux','video_app_flux'], axis = 1)"
      ],
      "metadata": {
        "id": "mwxx85JIfOuS"
      },
      "execution_count": null,
      "outputs": []
    },
    {
      "cell_type": "code",
      "source": [
        "df_final.info()"
      ],
      "metadata": {
        "colab": {
          "base_uri": "https://localhost:8080/"
        },
        "id": "3lUMS58rUr9o",
        "outputId": "5cdd32b9-ba19-4d54-b3c7-df929bfbd5c8"
      },
      "execution_count": null,
      "outputs": [
        {
          "output_type": "stream",
          "name": "stdout",
          "text": [
            "<class 'pandas.core.frame.DataFrame'>\n",
            "RangeIndex: 1000 entries, 0 to 999\n",
            "Data columns (total 20 columns):\n",
            " #   Column                Non-Null Count  Dtype  \n",
            "---  ------                --------------  -----  \n",
            " 0   prov_id               1000 non-null   int64  \n",
            " 1   chnl_type             1000 non-null   int64  \n",
            " 2   service_type          1000 non-null   int64  \n",
            " 3   product_type          1000 non-null   int64  \n",
            " 4   manu_name             1000 non-null   int64  \n",
            " 5   term_type             1000 non-null   int64  \n",
            " 6   max_rat_flag          1000 non-null   int64  \n",
            " 7   is_5g_base_cover      1000 non-null   int64  \n",
            " 8   is_work_5g_cover      1000 non-null   int64  \n",
            " 9   is_home_5g_cover      1000 non-null   int64  \n",
            " 10  is_work_5g_cover_l01  1000 non-null   int64  \n",
            " 11  is_home_5g_cover_l01  1000 non-null   int64  \n",
            " 12  is_work_5g_cover_l02  1000 non-null   int64  \n",
            " 13  is_home_5g_cover_l02  1000 non-null   int64  \n",
            " 14  activity_type         1000 non-null   int64  \n",
            " 15  is_act_expire         1000 non-null   int64  \n",
            " 16  comp_type             1000 non-null   int64  \n",
            " 17  city_5g_ratio         1000 non-null   float64\n",
            " 18  city_level            1000 non-null   int64  \n",
            " 19  is_5g                 1000 non-null   int64  \n",
            "dtypes: float64(1), int64(19)\n",
            "memory usage: 156.4 KB\n"
          ]
        }
      ]
    },
    {
      "cell_type": "code",
      "source": [
        "plt.figure(figsize=[25,10])\n",
        "plt.subplot(2,1,1)\n",
        "b=sb.distplot(df_final[df_final['is_5g']==1]['city_5g_ratio'],color=\"skyblue\")\n",
        "b.set_xlabel(\"city ratio density of 5g users\",fontsize=25)\n",
        "b.set_ylabel(\"Density\",fontsize=25)\n",
        "b.tick_params(labelsize=20);\n",
        "plt.subplot(2,1,2)\n",
        "b=sb.distplot(df_final[df_final['is_5g']==0]['city_5g_ratio'],color=\"red\")\n",
        "b.set_xlabel(\"city ratio density of non 5g users\",fontsize=25)\n",
        "b.set_ylabel(\"Density\",fontsize=25)\n",
        "b.tick_params(labelsize=20)\n",
        "plt.tight_layout();"
      ],
      "metadata": {
        "colab": {
          "base_uri": "https://localhost:8080/",
          "height": 357
        },
        "id": "Nf6A--CzqnyX",
        "outputId": "0768ceae-b1b8-4828-fda2-51e44ca7782b"
      },
      "execution_count": null,
      "outputs": [
        {
          "output_type": "stream",
          "name": "stderr",
          "text": [
            "/usr/local/lib/python3.7/dist-packages/seaborn/distributions.py:2619: FutureWarning: `distplot` is a deprecated function and will be removed in a future version. Please adapt your code to use either `displot` (a figure-level function with similar flexibility) or `histplot` (an axes-level function for histograms).\n",
            "  warnings.warn(msg, FutureWarning)\n",
            "/usr/local/lib/python3.7/dist-packages/seaborn/distributions.py:2619: FutureWarning: `distplot` is a deprecated function and will be removed in a future version. Please adapt your code to use either `displot` (a figure-level function with similar flexibility) or `histplot` (an axes-level function for histograms).\n",
            "  warnings.warn(msg, FutureWarning)\n"
          ]
        },
        {
          "output_type": "display_data",
          "data": {
            "text/plain": [
              "<Figure size 1800x720 with 2 Axes>"
            ],
            "image/png": "[encoded data removed]"
          },
          "metadata": {
            "needs_background": "light"
          }
        }
      ]
    },
    {
      "cell_type": "code",
      "source": [
        "cor = df_final.corr()\n",
        "plt.subplots(figsize=(15,10))\n",
        "sb.heatmap(cor, xticklabels=cor.columns, yticklabels=cor.columns, annot = False, cbar= True, cmap = sb.diverging_palette(150, 275, s=80, l=55, n=9))"
      ],
      "metadata": {
        "colab": {
          "base_uri": "https://localhost:8080/",
          "height": 509
        },
        "id": "HECGV-phntYL",
        "outputId": "1fe526c7-de5b-4cb6-e7f0-cace9b3abd02"
      },
      "execution_count": null,
      "outputs": [
        {
          "output_type": "execute_result",
          "data": {
            "text/plain": [
              "<matplotlib.axes._subplots.AxesSubplot at 0x7fdd5bbbb310>"
            ]
          },
          "metadata": {},
          "execution_count": 10
        },
        {
          "output_type": "display_data",
          "data": {
            "text/plain": [
              "<Figure size 1080x720 with 2 Axes>"
            ],
            "image/png": "[encoded data removed]"
          },
          "metadata": {
            "needs_background": "light"
          }
        }
      ]
    },
    {
      "cell_type": "code",
      "source": [
        "x = df_final.drop(['is_5g'], axis = 1)"
      ],
      "metadata": {
        "id": "OZQLPtbabY1S"
      },
      "execution_count": null,
      "outputs": []
    },
    {
      "cell_type": "code",
      "source": [
        "y = df['is_5g']"
      ],
      "metadata": {
        "id": "FBfqiOmCavVA"
      },
      "execution_count": null,
      "outputs": []
    },
    {
      "cell_type": "code",
      "source": [
        "x"
      ],
      "metadata": {
        "colab": {
          "base_uri": "https://localhost:8080/",
          "height": 488
        },
        "id": "pdXS1t6VdrWU",
        "outputId": "7c1e3ea1-37a6-48d8-bb25-7d172fbed79f"
      },
      "execution_count": null,
      "outputs": [
        {
          "output_type": "execute_result",
          "data": {
            "text/plain": [
              "     prov_id  chnl_type  service_type  product_type  manu_name  term_type  \\\n",
              "0         81          7             4             5          3          4   \n",
              "1         36          7             4             3          6          4   \n",
              "2         76          7             4             4          5          4   \n",
              "3         84         10             4             5          1          1   \n",
              "4         85          7             4             3          6          4   \n",
              "..       ...        ...           ...           ...        ...        ...   \n",
              "995       76         10             4             4          2          4   \n",
              "996       18          7             1             2          2          4   \n",
              "997       76         10             4             5          3          4   \n",
              "998       51          9             4             3          5          4   \n",
              "999       11         10             4             5          5          4   \n",
              "\n",
              "     max_rat_flag  is_5g_base_cover  is_work_5g_cover  is_home_5g_cover  \\\n",
              "0               4                 0                 0                 0   \n",
              "1               4                 0                 0                 0   \n",
              "2               4                 1                 1                 1   \n",
              "3               4                 0                 0                 0   \n",
              "4               4                 0                 0                 0   \n",
              "..            ...               ...               ...               ...   \n",
              "995             4                 0                 0                 0   \n",
              "996             4                 0                 0                 0   \n",
              "997             4                 0                 0                 0   \n",
              "998             4                 0                 0                 0   \n",
              "999             4                 1                 1                 1   \n",
              "\n",
              "     is_work_5g_cover_l01  is_home_5g_cover_l01  is_work_5g_cover_l02  \\\n",
              "0                       0                     0                     0   \n",
              "1                       0                     0                     0   \n",
              "2                       1                     1                     1   \n",
              "3                       0                     0                     0   \n",
              "4                       0                     0                     0   \n",
              "..                    ...                   ...                   ...   \n",
              "995                     0                     0                     0   \n",
              "996                     0                     0                     0   \n",
              "997                     0                     0                     0   \n",
              "998                     0                     0                     0   \n",
              "999                     1                     1                     1   \n",
              "\n",
              "     is_home_5g_cover_l02  activity_type  is_act_expire  comp_type  \\\n",
              "0                       0              4              1          1   \n",
              "1                       0              4              1          1   \n",
              "2                       1              3              2          6   \n",
              "3                       0              5              3          6   \n",
              "4                       0              4              1          1   \n",
              "..                    ...            ...            ...        ...   \n",
              "995                     0              4              1          6   \n",
              "996                     0              5              3          6   \n",
              "997                     0              4              1          1   \n",
              "998                     0              4              1          1   \n",
              "999                     1              4              1          2   \n",
              "\n",
              "     city_5g_ratio  city_level  \n",
              "0         0.000512           7  \n",
              "1         0.000356           3  \n",
              "2         0.000490           3  \n",
              "3         0.000328           2  \n",
              "4         0.000830           6  \n",
              "..             ...         ...  \n",
              "995       0.000094           7  \n",
              "996       0.000019           7  \n",
              "997       0.000094           7  \n",
              "998       0.000675           6  \n",
              "999       0.001015           1  \n",
              "\n",
              "[1000 rows x 19 columns]"
            ],
            "text/html": [
              "\n",
              "  <div id=\"df-5ea5279b-e7e1-44aa-8f18-22abdde3f14f\">\n",
              "    <div class=\"colab-df-container\">\n",
              "      <div>\n",
              "<style scoped>\n",
              "    .dataframe tbody tr th:only-of-type {\n",
              "        vertical-align: middle;\n",
              "    }\n",
              "\n",
              "    .dataframe tbody tr th {\n",
              "        vertical-align: top;\n",
              "    }\n",
              "\n",
              "    .dataframe thead th {\n",
              "        text-align: right;\n",
              "    }\n",
              "</style>\n",
              "<table border=\"1\" class=\"dataframe\">\n",
              "  <thead>\n",
              "    <tr style=\"text-align: right;\">\n",
              "      <th></th>\n",
              "      <th>prov_id</th>\n",
              "      <th>chnl_type</th>\n",
              "      <th>service_type</th>\n",
              "      <th>product_type</th>\n",
              "      <th>manu_name</th>\n",
              "      <th>term_type</th>\n",
              "      <th>max_rat_flag</th>\n",
              "      <th>is_5g_base_cover</th>\n",
              "      <th>is_work_5g_cover</th>\n",
              "      <th>is_home_5g_cover</th>\n",
              "      <th>is_work_5g_cover_l01</th>\n",
              "      <th>is_home_5g_cover_l01</th>\n",
              "      <th>is_work_5g_cover_l02</th>\n",
              "      <th>is_home_5g_cover_l02</th>\n",
              "      <th>activity_type</th>\n",
              "      <th>is_act_expire</th>\n",
              "      <th>comp_type</th>\n",
              "      <th>city_5g_ratio</th>\n",
              "      <th>city_level</th>\n",
              "    </tr>\n",
              "  </thead>\n",
              "  <tbody>\n",
              "    <tr>\n",
              "      <th>0</th>\n",
              "      <td>81</td>\n",
              "      <td>7</td>\n",
              "      <td>4</td>\n",
              "      <td>5</td>\n",
              "      <td>3</td>\n",
              "      <td>4</td>\n",
              "      <td>4</td>\n",
              "      <td>0</td>\n",
              "      <td>0</td>\n",
              "      <td>0</td>\n",
              "      <td>0</td>\n",
              "      <td>0</td>\n",
              "      <td>0</td>\n",
              "      <td>0</td>\n",
              "      <td>4</td>\n",
              "      <td>1</td>\n",
              "      <td>1</td>\n",
              "      <td>0.000512</td>\n",
              "      <td>7</td>\n",
              "    </tr>\n",
              "    <tr>\n",
              "      <th>1</th>\n",
              "      <td>36</td>\n",
              "      <td>7</td>\n",
              "      <td>4</td>\n",
              "      <td>3</td>\n",
              "      <td>6</td>\n",
              "      <td>4</td>\n",
              "      <td>4</td>\n",
              "      <td>0</td>\n",
              "      <td>0</td>\n",
              "      <td>0</td>\n",
              "      <td>0</td>\n",
              "      <td>0</td>\n",
              "      <td>0</td>\n",
              "      <td>0</td>\n",
              "      <td>4</td>\n",
              "      <td>1</td>\n",
              "      <td>1</td>\n",
              "      <td>0.000356</td>\n",
              "      <td>3</td>\n",
              "    </tr>\n",
              "    <tr>\n",
              "      <th>2</th>\n",
              "      <td>76</td>\n",
              "      <td>7</td>\n",
              "      <td>4</td>\n",
              "      <td>4</td>\n",
              "      <td>5</td>\n",
              "      <td>4</td>\n",
              "      <td>4</td>\n",
              "      <td>1</td>\n",
              "      <td>1</td>\n",
              "      <td>1</td>\n",
              "      <td>1</td>\n",
              "      <td>1</td>\n",
              "      <td>1</td>\n",
              "      <td>1</td>\n",
              "      <td>3</td>\n",
              "      <td>2</td>\n",
              "      <td>6</td>\n",
              "      <td>0.000490</td>\n",
              "      <td>3</td>\n",
              "    </tr>\n",
              "    <tr>\n",
              "      <th>3</th>\n",
              "      <td>84</td>\n",
              "      <td>10</td>\n",
              "      <td>4</td>\n",
              "      <td>5</td>\n",
              "      <td>1</td>\n",
              "      <td>1</td>\n",
              "      <td>4</td>\n",
              "      <td>0</td>\n",
              "      <td>0</td>\n",
              "      <td>0</td>\n",
              "      <td>0</td>\n",
              "      <td>0</td>\n",
              "      <td>0</td>\n",
              "      <td>0</td>\n",
              "      <td>5</td>\n",
              "      <td>3</td>\n",
              "      <td>6</td>\n",
              "      <td>0.000328</td>\n",
              "      <td>2</td>\n",
              "    </tr>\n",
              "    <tr>\n",
              "      <th>4</th>\n",
              "      <td>85</td>\n",
              "      <td>7</td>\n",
              "      <td>4</td>\n",
              "      <td>3</td>\n",
              "      <td>6</td>\n",
              "      <td>4</td>\n",
              "      <td>4</td>\n",
              "      <td>0</td>\n",
              "      <td>0</td>\n",
              "      <td>0</td>\n",
              "      <td>0</td>\n",
              "      <td>0</td>\n",
              "      <td>0</td>\n",
              "      <td>0</td>\n",
              "      <td>4</td>\n",
              "      <td>1</td>\n",
              "      <td>1</td>\n",
              "      <td>0.000830</td>\n",
              "      <td>6</td>\n",
              "    </tr>\n",
              "    <tr>\n",
              "      <th>...</th>\n",
              "      <td>...</td>\n",
              "      <td>...</td>\n",
              "      <td>...</td>\n",
              "      <td>...</td>\n",
              "      <td>...</td>\n",
              "      <td>...</td>\n",
              "      <td>...</td>\n",
              "      <td>...</td>\n",
              "      <td>...</td>\n",
              "      <td>...</td>\n",
              "      <td>...</td>\n",
              "      <td>...</td>\n",
              "      <td>...</td>\n",
              "      <td>...</td>\n",
              "      <td>...</td>\n",
              "      <td>...</td>\n",
              "      <td>...</td>\n",
              "      <td>...</td>\n",
              "      <td>...</td>\n",
              "    </tr>\n",
              "    <tr>\n",
              "      <th>995</th>\n",
              "      <td>76</td>\n",
              "      <td>10</td>\n",
              "      <td>4</td>\n",
              "      <td>4</td>\n",
              "      <td>2</td>\n",
              "      <td>4</td>\n",
              "      <td>4</td>\n",
              "      <td>0</td>\n",
              "      <td>0</td>\n",
              "      <td>0</td>\n",
              "      <td>0</td>\n",
              "      <td>0</td>\n",
              "      <td>0</td>\n",
              "      <td>0</td>\n",
              "      <td>4</td>\n",
              "      <td>1</td>\n",
              "      <td>6</td>\n",
              "      <td>0.000094</td>\n",
              "      <td>7</td>\n",
              "    </tr>\n",
              "    <tr>\n",
              "      <th>996</th>\n",
              "      <td>18</td>\n",
              "      <td>7</td>\n",
              "      <td>1</td>\n",
              "      <td>2</td>\n",
              "      <td>2</td>\n",
              "      <td>4</td>\n",
              "      <td>4</td>\n",
              "      <td>0</td>\n",
              "      <td>0</td>\n",
              "      <td>0</td>\n",
              "      <td>0</td>\n",
              "      <td>0</td>\n",
              "      <td>0</td>\n",
              "      <td>0</td>\n",
              "      <td>5</td>\n",
              "      <td>3</td>\n",
              "      <td>6</td>\n",
              "      <td>0.000019</td>\n",
              "      <td>7</td>\n",
              "    </tr>\n",
              "    <tr>\n",
              "      <th>997</th>\n",
              "      <td>76</td>\n",
              "      <td>10</td>\n",
              "      <td>4</td>\n",
              "      <td>5</td>\n",
              "      <td>3</td>\n",
              "      <td>4</td>\n",
              "      <td>4</td>\n",
              "      <td>0</td>\n",
              "      <td>0</td>\n",
              "      <td>0</td>\n",
              "      <td>0</td>\n",
              "      <td>0</td>\n",
              "      <td>0</td>\n",
              "      <td>0</td>\n",
              "      <td>4</td>\n",
              "      <td>1</td>\n",
              "      <td>1</td>\n",
              "      <td>0.000094</td>\n",
              "      <td>7</td>\n",
              "    </tr>\n",
              "    <tr>\n",
              "      <th>998</th>\n",
              "      <td>51</td>\n",
              "      <td>9</td>\n",
              "      <td>4</td>\n",
              "      <td>3</td>\n",
              "      <td>5</td>\n",
              "      <td>4</td>\n",
              "      <td>4</td>\n",
              "      <td>0</td>\n",
              "      <td>0</td>\n",
              "      <td>0</td>\n",
              "      <td>0</td>\n",
              "      <td>0</td>\n",
              "      <td>0</td>\n",
              "      <td>0</td>\n",
              "      <td>4</td>\n",
              "      <td>1</td>\n",
              "      <td>1</td>\n",
              "      <td>0.000675</td>\n",
              "      <td>6</td>\n",
              "    </tr>\n",
              "    <tr>\n",
              "      <th>999</th>\n",
              "      <td>11</td>\n",
              "      <td>10</td>\n",
              "      <td>4</td>\n",
              "      <td>5</td>\n",
              "      <td>5</td>\n",
              "      <td>4</td>\n",
              "      <td>4</td>\n",
              "      <td>1</td>\n",
              "      <td>1</td>\n",
              "      <td>1</td>\n",
              "      <td>1</td>\n",
              "      <td>1</td>\n",
              "      <td>1</td>\n",
              "      <td>1</td>\n",
              "      <td>4</td>\n",
              "      <td>1</td>\n",
              "      <td>2</td>\n",
              "      <td>0.001015</td>\n",
              "      <td>1</td>\n",
              "    </tr>\n",
              "  </tbody>\n",
              "</table>\n",
              "<p>1000 rows × 19 columns</p>\n",
              "</div>\n",
              "      <button class=\"colab-df-convert\" onclick=\"convertToInteractive('df-5ea5279b-e7e1-44aa-8f18-22abdde3f14f')\"\n",
              "              title=\"Convert this dataframe to an interactive table.\"\n",
              "              style=\"display:none;\">\n",
              "        \n",
              "  <svg xmlns=\"http://www.w3.org/2000/svg\" height=\"24px\"viewBox=\"0 0 24 24\"\n",
              "       width=\"24px\">\n",
              "    <path d=\"M0 0h24v24H0V0z\" fill=\"none\"/>\n",
              "    <path d=\"M18.56 5.44l.94 2.06.94-2.06 2.06-.94-2.06-.94-.94-2.06-.94 2.06-2.06.94zm-11 1L8.5 8.5l.94-2.06 2.06-.94-2.06-.94L8.5 2.5l-.94 2.06-2.06.94zm10 10l.94 2.06.94-2.06 2.06-.94-2.06-.94-.94-2.06-.94 2.06-2.06.94z\"/><path d=\"M17.41 7.96l-1.37-1.37c-.4-.4-.92-.59-1.43-.59-.52 0-1.04.2-1.43.59L10.3 9.45l-7.72 7.72c-.78.78-.78 2.05 0 2.83L4 21.41c.39.39.9.59 1.41.59.51 0 1.02-.2 1.41-.59l7.78-7.78 2.81-2.81c.8-.78.8-2.07 0-2.86zM5.41 20L4 18.59l7.72-7.72 1.47 1.35L5.41 20z\"/>\n",
              "  </svg>\n",
              "      </button>\n",
              "      \n",
              "  <style>\n",
              "    .colab-df-container {\n",
              "      display:flex;\n",
              "      flex-wrap:wrap;\n",
              "      gap: 12px;\n",
              "    }\n",
              "\n",
              "    .colab-df-convert {\n",
              "      background-color: #E8F0FE;\n",
              "      border: none;\n",
              "      border-radius: 50%;\n",
              "      cursor: pointer;\n",
              "      display: none;\n",
              "      fill: #1967D2;\n",
              "      height: 32px;\n",
              "      padding: 0 0 0 0;\n",
              "      width: 32px;\n",
              "    }\n",
              "\n",
              "    .colab-df-convert:hover {\n",
              "      background-color: #E2EBFA;\n",
              "      box-shadow: 0px 1px 2px rgba(60, 64, 67, 0.3), 0px 1px 3px 1px rgba(60, 64, 67, 0.15);\n",
              "      fill: #174EA6;\n",
              "    }\n",
              "\n",
              "    [theme=dark] .colab-df-convert {\n",
              "      background-color: #3B4455;\n",
              "      fill: #D2E3FC;\n",
              "    }\n",
              "\n",
              "    [theme=dark] .colab-df-convert:hover {\n",
              "      background-color: #434B5C;\n",
              "      box-shadow: 0px 1px 3px 1px rgba(0, 0, 0, 0.15);\n",
              "      filter: drop-shadow(0px 1px 2px rgba(0, 0, 0, 0.3));\n",
              "      fill: #FFFFFF;\n",
              "    }\n",
              "  </style>\n",
              "\n",
              "      <script>\n",
              "        const buttonEl =\n",
              "          document.querySelector('#df-5ea5279b-e7e1-44aa-8f18-22abdde3f14f button.colab-df-convert');\n",
              "        buttonEl.style.display =\n",
              "          google.colab.kernel.accessAllowed ? 'block' : 'none';\n",
              "\n",
              "        async function convertToInteractive(key) {\n",
              "          const element = document.querySelector('#df-5ea5279b-e7e1-44aa-8f18-22abdde3f14f');\n",
              "          const dataTable =\n",
              "            await google.colab.kernel.invokeFunction('convertToInteractive',\n",
              "                                                     [key], {});\n",
              "          if (!dataTable) return;\n",
              "\n",
              "          const docLinkHtml = 'Like what you see? Visit the ' +\n",
              "            '<a target=\"_blank\" href=https://colab.research.google.com/notebooks/data_table.ipynb>data table notebook</a>'\n",
              "            + ' to learn more about interactive tables.';\n",
              "          element.innerHTML = '';\n",
              "          dataTable['output_type'] = 'display_data';\n",
              "          await google.colab.output.renderOutput(dataTable, element);\n",
              "          const docLink = document.createElement('div');\n",
              "          docLink.innerHTML = docLinkHtml;\n",
              "          element.appendChild(docLink);\n",
              "        }\n",
              "      </script>\n",
              "    </div>\n",
              "  </div>\n",
              "  "
            ]
          },
          "metadata": {},
          "execution_count": 13
        }
      ]
    },
    {
      "cell_type": "code",
      "source": [
        "y"
      ],
      "metadata": {
        "colab": {
          "base_uri": "https://localhost:8080/"
        },
        "id": "p0HyMTi-bja8",
        "outputId": "e4c80787-ac82-4905-9083-b3836058afe3"
      },
      "execution_count": null,
      "outputs": [
        {
          "output_type": "execute_result",
          "data": {
            "text/plain": [
              "0      1\n",
              "1      0\n",
              "2      0\n",
              "3      0\n",
              "4      0\n",
              "      ..\n",
              "995    0\n",
              "996    0\n",
              "997    0\n",
              "998    0\n",
              "999    0\n",
              "Name: is_5g, Length: 1000, dtype: int64"
            ]
          },
          "metadata": {},
          "execution_count": 14
        }
      ]
    },
    {
      "cell_type": "code",
      "source": [
        "#data normalisation\n",
        "from sklearn.preprocessing import StandardScaler\n",
        "x = StandardScaler().fit_transform(x)"
      ],
      "metadata": {
        "id": "uCYRzGcIbtVf"
      },
      "execution_count": null,
      "outputs": []
    },
    {
      "cell_type": "code",
      "source": [
        "#Train Test Splitting\n",
        "\n",
        "from sklearn.model_selection import train_test_split\n",
        "from sklearn.metrics import classification_report\n",
        "from sklearn.metrics import accuracy_score\n",
        "from sklearn.metrics import confusion_matrix"
      ],
      "metadata": {
        "id": "yWAh0s-ncHOQ"
      },
      "execution_count": null,
      "outputs": []
    },
    {
      "cell_type": "code",
      "source": [
        "x_train, x_test, y_train, y_test = train_test_split(x, y, test_size = .20, random_state= 40)"
      ],
      "metadata": {
        "id": "5YRhcoGclpff"
      },
      "execution_count": null,
      "outputs": []
    },
    {
      "cell_type": "code",
      "source": [
        "#Naive Bayes regression\n",
        "from sklearn import naive_bayes\n",
        "model_nb = naive_bayes.GaussianNB()\n",
        "model_nb.fit(x_train, y_train)\n",
        "pred_nb = model_nb.predict(x_test)\n",
        "print(classification_report(y_test,pred_nb))\n",
        "acc_nb = accuracy_score(y_test,pred_nb)*100\n",
        "print(acc_nb)"
      ],
      "metadata": {
        "colab": {
          "base_uri": "https://localhost:8080/"
        },
        "id": "VAWojJ0pg9gK",
        "outputId": "0ba65145-9f3d-414a-a18f-d75b3a048e64"
      },
      "execution_count": null,
      "outputs": [
        {
          "output_type": "stream",
          "name": "stdout",
          "text": [
            "              precision    recall  f1-score   support\n",
            "\n",
            "           0       0.98      0.81      0.89       196\n",
            "           1       0.03      0.25      0.05         4\n",
            "\n",
            "    accuracy                           0.80       200\n",
            "   macro avg       0.50      0.53      0.47       200\n",
            "weighted avg       0.96      0.80      0.87       200\n",
            "\n",
            "80.0\n"
          ]
        }
      ]
    },
    {
      "cell_type": "code",
      "source": [
        "cm_nb = confusion_matrix(y_test,pred_nb)\n",
        "print(cm_nb)"
      ],
      "metadata": {
        "colab": {
          "base_uri": "https://localhost:8080/"
        },
        "id": "pXE-94_DtJzD",
        "outputId": "efa3ccbc-a300-48b5-9df0-4f5c1c9bc2fe"
      },
      "execution_count": null,
      "outputs": [
        {
          "output_type": "stream",
          "name": "stdout",
          "text": [
            "[[159  37]\n",
            " [  3   1]]\n"
          ]
        }
      ]
    },
    {
      "cell_type": "code",
      "source": [
        "#logistic regression\n",
        "from sklearn.linear_model import LogisticRegression\n",
        "model_lr = LogisticRegression()\n",
        "model_lr.fit(x_train, y_train)\n",
        "pred_lr = model_lr.predict(x_test)\n",
        "print(classification_report(y_test,pred_lr))\n",
        "acc_lr = accuracy_score(y_test,pred_lr)*100\n",
        "print(acc_lr)"
      ],
      "metadata": {
        "colab": {
          "base_uri": "https://localhost:8080/"
        },
        "id": "FYV2xH35mNVA",
        "outputId": "db1523ef-dc1b-43fd-c72a-2f62ddaab16f"
      },
      "execution_count": null,
      "outputs": [
        {
          "output_type": "stream",
          "name": "stdout",
          "text": [
            "              precision    recall  f1-score   support\n",
            "\n",
            "           0       0.98      1.00      0.99       196\n",
            "           1       0.00      0.00      0.00         4\n",
            "\n",
            "    accuracy                           0.98       200\n",
            "   macro avg       0.49      0.50      0.49       200\n",
            "weighted avg       0.96      0.98      0.97       200\n",
            "\n",
            "98.0\n"
          ]
        },
        {
          "output_type": "stream",
          "name": "stderr",
          "text": [
            "/usr/local/lib/python3.7/dist-packages/sklearn/metrics/_classification.py:1318: UndefinedMetricWarning: Precision and F-score are ill-defined and being set to 0.0 in labels with no predicted samples. Use `zero_division` parameter to control this behavior.\n",
            "  _warn_prf(average, modifier, msg_start, len(result))\n",
            "/usr/local/lib/python3.7/dist-packages/sklearn/metrics/_classification.py:1318: UndefinedMetricWarning: Precision and F-score are ill-defined and being set to 0.0 in labels with no predicted samples. Use `zero_division` parameter to control this behavior.\n",
            "  _warn_prf(average, modifier, msg_start, len(result))\n",
            "/usr/local/lib/python3.7/dist-packages/sklearn/metrics/_classification.py:1318: UndefinedMetricWarning: Precision and F-score are ill-defined and being set to 0.0 in labels with no predicted samples. Use `zero_division` parameter to control this behavior.\n",
            "  _warn_prf(average, modifier, msg_start, len(result))\n"
          ]
        }
      ]
    },
    {
      "cell_type": "code",
      "source": [
        "cm_lr = confusion_matrix(y_test,pred_lr)\n",
        "print(cm_lr)"
      ],
      "metadata": {
        "colab": {
          "base_uri": "https://localhost:8080/"
        },
        "id": "9BmsTZJdtFD8",
        "outputId": "af0d46c9-7336-435f-cb36-bde70829ce9e"
      },
      "execution_count": null,
      "outputs": [
        {
          "output_type": "stream",
          "name": "stdout",
          "text": [
            "[[196   0]\n",
            " [  4   0]]\n"
          ]
        }
      ]
    },
    {
      "cell_type": "code",
      "source": [
        "#svm\n",
        "from sklearn import svm\n",
        "model_svm = svm.SVC(kernel = 'poly')\n",
        "model_svm.fit(x_train, y_train)\n",
        "pred_svm = model_svm.predict(x_test)\n",
        "print(classification_report(y_test, pred_svm))\n",
        "acc_svm = accuracy_score(y_test,pred_svm)*100\n",
        "print(acc_svm)"
      ],
      "metadata": {
        "colab": {
          "base_uri": "https://localhost:8080/"
        },
        "id": "o2WqrerPjnSz",
        "outputId": "f7f04f97-fa23-45a9-80c4-93ae8ffc9cf1"
      },
      "execution_count": null,
      "outputs": [
        {
          "output_type": "stream",
          "name": "stdout",
          "text": [
            "              precision    recall  f1-score   support\n",
            "\n",
            "           0       0.98      0.99      0.99       196\n",
            "           1       0.00      0.00      0.00         4\n",
            "\n",
            "    accuracy                           0.97       200\n",
            "   macro avg       0.49      0.50      0.49       200\n",
            "weighted avg       0.96      0.97      0.97       200\n",
            "\n",
            "97.5\n"
          ]
        }
      ]
    },
    {
      "cell_type": "code",
      "source": [
        "cm_svm = confusion_matrix(y_test,pred_svm)\n",
        "print(cm_svm)"
      ],
      "metadata": {
        "colab": {
          "base_uri": "https://localhost:8080/"
        },
        "id": "i-QZAPqztAoK",
        "outputId": "58026508-d4f9-4a65-ff99-9612d584bee6"
      },
      "execution_count": null,
      "outputs": [
        {
          "output_type": "stream",
          "name": "stdout",
          "text": [
            "[[195   1]\n",
            " [  4   0]]\n"
          ]
        }
      ]
    },
    {
      "cell_type": "code",
      "source": [
        "from sklearn.tree import DecisionTreeClassifier\n",
        "model_dt = DecisionTreeClassifier()\n",
        "model_dt.fit(x_train, y_train)\n",
        "pred_dt = model_dt.predict(x_test)\n",
        "print(classification_report(y_test, pred_dt))\n",
        "acc_dt = accuracy_score(y_test,pred_dt)*100\n",
        "print(acc_dt)"
      ],
      "metadata": {
        "colab": {
          "base_uri": "https://localhost:8080/"
        },
        "id": "s7yeuMMtm9FZ",
        "outputId": "c074057a-d739-4730-8a20-79b0f39c70c1"
      },
      "execution_count": null,
      "outputs": [
        {
          "output_type": "stream",
          "name": "stdout",
          "text": [
            "              precision    recall  f1-score   support\n",
            "\n",
            "           0       0.98      0.98      0.98       196\n",
            "           1       0.00      0.00      0.00         4\n",
            "\n",
            "    accuracy                           0.96       200\n",
            "   macro avg       0.49      0.49      0.49       200\n",
            "weighted avg       0.96      0.96      0.96       200\n",
            "\n",
            "96.0\n"
          ]
        }
      ]
    },
    {
      "cell_type": "code",
      "source": [
        "cm_dt = confusion_matrix(y_test,pred_dt)\n",
        "print(cm_dt)"
      ],
      "metadata": {
        "colab": {
          "base_uri": "https://localhost:8080/"
        },
        "id": "EkRC_9Dms7ce",
        "outputId": "03fa3adf-776c-4090-f64b-34d19dc0c4d4"
      },
      "execution_count": null,
      "outputs": [
        {
          "output_type": "stream",
          "name": "stdout",
          "text": [
            "[[192   4]\n",
            " [  4   0]]\n"
          ]
        }
      ]
    },
    {
      "cell_type": "code",
      "source": [
        "from tensorflow import keras"
      ],
      "metadata": {
        "id": "4QCPbVnOmR24"
      },
      "execution_count": null,
      "outputs": []
    },
    {
      "cell_type": "code",
      "source": [
        "from keras.models import Sequential\n",
        "from keras.layers import Dense"
      ],
      "metadata": {
        "id": "sE77PDIWki4K"
      },
      "execution_count": null,
      "outputs": []
    },
    {
      "cell_type": "code",
      "source": [
        "#Artificial Neural Network\n",
        "ann = Sequential()\n",
        "ann.add(Dense(activation = \"relu\", input_dim = 19,\n",
        "\t\t\t\t\tunits = 8, kernel_initializer = \"uniform\"))\n",
        "ann.add(Dense(activation = \"relu\", units = 10,\n",
        "\t\t\t\t\tkernel_initializer = \"uniform\"))\n",
        "ann.add(Dense(activation = \"sigmoid\", units = 1,\n",
        "\t\t\t\t\tkernel_initializer = \"uniform\"))\n",
        "ann.compile(optimizer = 'adam' , loss = 'binary_crossentropy',\n",
        "\t\t\t\tmetrics = ['accuracy'] )\n"
      ],
      "metadata": {
        "id": "HaMkZolrlYy4"
      },
      "execution_count": null,
      "outputs": []
    },
    {
      "cell_type": "code",
      "source": [
        "ann.fit(x_train , y_train , batch_size = 8 ,epochs = 100 )"
      ],
      "metadata": {
        "colab": {
          "base_uri": "https://localhost:8080/"
        },
        "id": "aG0bURxclYso",
        "outputId": "ca05988d-bb61-465e-b7ce-11abc67c435e"
      },
      "execution_count": null,
      "outputs": [
        {
          "output_type": "stream",
          "name": "stdout",
          "text": [
            "Epoch 1/100\n",
            "100/100 [==============================] - 2s 6ms/step - loss: 0.6359 - accuracy: 0.9712\n",
            "Epoch 2/100\n",
            "100/100 [==============================] - 0s 3ms/step - loss: 0.3006 - accuracy: 0.9800\n",
            "Epoch 3/100\n",
            "100/100 [==============================] - 0s 4ms/step - loss: 0.1226 - accuracy: 0.9800\n",
            "Epoch 4/100\n",
            "100/100 [==============================] - 0s 4ms/step - loss: 0.0985 - accuracy: 0.9800\n",
            "Epoch 5/100\n",
            "100/100 [==============================] - 0s 4ms/step - loss: 0.0914 - accuracy: 0.9800\n",
            "Epoch 6/100\n",
            "100/100 [==============================] - 0s 4ms/step - loss: 0.0869 - accuracy: 0.9800\n",
            "Epoch 7/100\n",
            "100/100 [==============================] - 0s 4ms/step - loss: 0.0842 - accuracy: 0.9800\n",
            "Epoch 8/100\n",
            "100/100 [==============================] - 0s 4ms/step - loss: 0.0823 - accuracy: 0.9800\n",
            "Epoch 9/100\n",
            "100/100 [==============================] - 0s 4ms/step - loss: 0.0801 - accuracy: 0.9800\n",
            "Epoch 10/100\n",
            "100/100 [==============================] - 0s 4ms/step - loss: 0.0787 - accuracy: 0.9800\n",
            "Epoch 11/100\n",
            "100/100 [==============================] - 1s 5ms/step - loss: 0.0777 - accuracy: 0.9800\n",
            "Epoch 12/100\n",
            "100/100 [==============================] - 0s 4ms/step - loss: 0.0765 - accuracy: 0.9800\n",
            "Epoch 13/100\n",
            "100/100 [==============================] - 0s 4ms/step - loss: 0.0755 - accuracy: 0.9800\n",
            "Epoch 14/100\n",
            "100/100 [==============================] - 0s 3ms/step - loss: 0.0747 - accuracy: 0.9800\n",
            "Epoch 15/100\n",
            "100/100 [==============================] - 0s 4ms/step - loss: 0.0733 - accuracy: 0.9800\n",
            "Epoch 16/100\n",
            "100/100 [==============================] - 0s 4ms/step - loss: 0.0725 - accuracy: 0.9800\n",
            "Epoch 17/100\n",
            "100/100 [==============================] - 1s 7ms/step - loss: 0.0717 - accuracy: 0.9800\n",
            "Epoch 18/100\n",
            "100/100 [==============================] - 0s 4ms/step - loss: 0.0709 - accuracy: 0.9800\n",
            "Epoch 19/100\n",
            "100/100 [==============================] - 0s 4ms/step - loss: 0.0701 - accuracy: 0.9800\n",
            "Epoch 20/100\n",
            "100/100 [==============================] - 0s 3ms/step - loss: 0.0695 - accuracy: 0.9800\n",
            "Epoch 21/100\n",
            "100/100 [==============================] - 1s 7ms/step - loss: 0.0687 - accuracy: 0.9800\n",
            "Epoch 22/100\n",
            "100/100 [==============================] - 0s 4ms/step - loss: 0.0680 - accuracy: 0.9800\n",
            "Epoch 23/100\n",
            "100/100 [==============================] - 0s 4ms/step - loss: 0.0676 - accuracy: 0.9800\n",
            "Epoch 24/100\n",
            "100/100 [==============================] - 0s 3ms/step - loss: 0.0671 - accuracy: 0.9800\n",
            "Epoch 25/100\n",
            "100/100 [==============================] - 0s 4ms/step - loss: 0.0669 - accuracy: 0.9800\n",
            "Epoch 26/100\n",
            "100/100 [==============================] - 0s 3ms/step - loss: 0.0658 - accuracy: 0.9800\n",
            "Epoch 27/100\n",
            "100/100 [==============================] - 0s 3ms/step - loss: 0.0652 - accuracy: 0.9800\n",
            "Epoch 28/100\n",
            "100/100 [==============================] - 0s 3ms/step - loss: 0.0647 - accuracy: 0.9800\n",
            "Epoch 29/100\n",
            "100/100 [==============================] - 0s 3ms/step - loss: 0.0643 - accuracy: 0.9800\n",
            "Epoch 30/100\n",
            "100/100 [==============================] - 0s 3ms/step - loss: 0.0640 - accuracy: 0.9800\n",
            "Epoch 31/100\n",
            "100/100 [==============================] - 0s 3ms/step - loss: 0.0637 - accuracy: 0.9800\n",
            "Epoch 32/100\n",
            "100/100 [==============================] - 1s 6ms/step - loss: 0.0633 - accuracy: 0.9800\n",
            "Epoch 33/100\n",
            "100/100 [==============================] - 1s 7ms/step - loss: 0.0620 - accuracy: 0.9800\n",
            "Epoch 34/100\n",
            "100/100 [==============================] - 0s 3ms/step - loss: 0.0631 - accuracy: 0.9800\n",
            "Epoch 35/100\n",
            "100/100 [==============================] - 0s 3ms/step - loss: 0.0622 - accuracy: 0.9800\n",
            "Epoch 36/100\n",
            "100/100 [==============================] - 0s 4ms/step - loss: 0.0616 - accuracy: 0.9800\n",
            "Epoch 37/100\n",
            "100/100 [==============================] - 1s 5ms/step - loss: 0.0610 - accuracy: 0.9800\n",
            "Epoch 38/100\n",
            "100/100 [==============================] - 0s 4ms/step - loss: 0.0606 - accuracy: 0.9800\n",
            "Epoch 39/100\n",
            "100/100 [==============================] - 0s 5ms/step - loss: 0.0601 - accuracy: 0.9800\n",
            "Epoch 40/100\n",
            "100/100 [==============================] - 0s 3ms/step - loss: 0.0602 - accuracy: 0.9800\n",
            "Epoch 41/100\n",
            "100/100 [==============================] - 1s 5ms/step - loss: 0.0593 - accuracy: 0.9800\n",
            "Epoch 42/100\n",
            "100/100 [==============================] - 0s 4ms/step - loss: 0.0593 - accuracy: 0.9800\n",
            "Epoch 43/100\n",
            "100/100 [==============================] - 1s 5ms/step - loss: 0.0588 - accuracy: 0.9800\n",
            "Epoch 44/100\n",
            "100/100 [==============================] - 1s 7ms/step - loss: 0.0585 - accuracy: 0.9800\n",
            "Epoch 45/100\n",
            "100/100 [==============================] - 0s 5ms/step - loss: 0.0586 - accuracy: 0.9800\n",
            "Epoch 46/100\n",
            "100/100 [==============================] - 0s 5ms/step - loss: 0.0580 - accuracy: 0.9800\n",
            "Epoch 47/100\n",
            "100/100 [==============================] - 1s 8ms/step - loss: 0.0580 - accuracy: 0.9800\n",
            "Epoch 48/100\n",
            "100/100 [==============================] - 0s 4ms/step - loss: 0.0572 - accuracy: 0.9800\n",
            "Epoch 49/100\n",
            "100/100 [==============================] - 0s 3ms/step - loss: 0.0573 - accuracy: 0.9800\n",
            "Epoch 50/100\n",
            "100/100 [==============================] - 0s 3ms/step - loss: 0.0562 - accuracy: 0.9800\n",
            "Epoch 51/100\n",
            "100/100 [==============================] - 0s 4ms/step - loss: 0.0571 - accuracy: 0.9800\n",
            "Epoch 52/100\n",
            "100/100 [==============================] - 0s 4ms/step - loss: 0.0568 - accuracy: 0.9800\n",
            "Epoch 53/100\n",
            "100/100 [==============================] - 0s 3ms/step - loss: 0.0554 - accuracy: 0.9800\n",
            "Epoch 54/100\n",
            "100/100 [==============================] - 0s 4ms/step - loss: 0.0550 - accuracy: 0.9800\n",
            "Epoch 55/100\n",
            "100/100 [==============================] - 0s 5ms/step - loss: 0.0549 - accuracy: 0.9800\n",
            "Epoch 56/100\n",
            "100/100 [==============================] - 0s 4ms/step - loss: 0.0544 - accuracy: 0.9800\n",
            "Epoch 57/100\n",
            "100/100 [==============================] - 1s 5ms/step - loss: 0.0541 - accuracy: 0.9800\n",
            "Epoch 58/100\n",
            "100/100 [==============================] - 1s 6ms/step - loss: 0.0538 - accuracy: 0.9800\n",
            "Epoch 59/100\n",
            "100/100 [==============================] - 1s 8ms/step - loss: 0.0539 - accuracy: 0.9800\n",
            "Epoch 60/100\n",
            "100/100 [==============================] - 1s 7ms/step - loss: 0.0532 - accuracy: 0.9800\n",
            "Epoch 61/100\n",
            "100/100 [==============================] - 0s 4ms/step - loss: 0.0526 - accuracy: 0.9800\n",
            "Epoch 62/100\n",
            "100/100 [==============================] - 0s 4ms/step - loss: 0.0522 - accuracy: 0.9800\n",
            "Epoch 63/100\n",
            "100/100 [==============================] - 0s 2ms/step - loss: 0.0516 - accuracy: 0.9800\n",
            "Epoch 64/100\n",
            "100/100 [==============================] - 0s 2ms/step - loss: 0.0514 - accuracy: 0.9800\n",
            "Epoch 65/100\n",
            "100/100 [==============================] - 0s 3ms/step - loss: 0.0512 - accuracy: 0.9800\n",
            "Epoch 66/100\n",
            "100/100 [==============================] - 0s 2ms/step - loss: 0.0509 - accuracy: 0.9825\n",
            "Epoch 67/100\n",
            "100/100 [==============================] - 0s 2ms/step - loss: 0.0508 - accuracy: 0.9825\n",
            "Epoch 68/100\n",
            "100/100 [==============================] - 0s 2ms/step - loss: 0.0497 - accuracy: 0.9812\n",
            "Epoch 69/100\n",
            "100/100 [==============================] - 0s 2ms/step - loss: 0.0494 - accuracy: 0.9825\n",
            "Epoch 70/100\n",
            "100/100 [==============================] - 0s 2ms/step - loss: 0.0489 - accuracy: 0.9825\n",
            "Epoch 71/100\n",
            "100/100 [==============================] - 0s 2ms/step - loss: 0.0486 - accuracy: 0.9825\n",
            "Epoch 72/100\n",
            "100/100 [==============================] - 0s 2ms/step - loss: 0.0479 - accuracy: 0.9850\n",
            "Epoch 73/100\n",
            "100/100 [==============================] - 0s 2ms/step - loss: 0.0484 - accuracy: 0.9812\n",
            "Epoch 74/100\n",
            "100/100 [==============================] - 0s 3ms/step - loss: 0.0480 - accuracy: 0.9837\n",
            "Epoch 75/100\n",
            "100/100 [==============================] - 0s 2ms/step - loss: 0.0466 - accuracy: 0.9850\n",
            "Epoch 76/100\n",
            "100/100 [==============================] - 0s 2ms/step - loss: 0.0463 - accuracy: 0.9850\n",
            "Epoch 77/100\n",
            "100/100 [==============================] - 0s 2ms/step - loss: 0.0464 - accuracy: 0.9862\n",
            "Epoch 78/100\n",
            "100/100 [==============================] - 0s 3ms/step - loss: 0.0463 - accuracy: 0.9850\n",
            "Epoch 79/100\n",
            "100/100 [==============================] - 0s 2ms/step - loss: 0.0450 - accuracy: 0.9850\n",
            "Epoch 80/100\n",
            "100/100 [==============================] - 0s 2ms/step - loss: 0.0459 - accuracy: 0.9850\n",
            "Epoch 81/100\n",
            "100/100 [==============================] - 0s 3ms/step - loss: 0.0441 - accuracy: 0.9850\n",
            "Epoch 82/100\n",
            "100/100 [==============================] - 0s 3ms/step - loss: 0.0442 - accuracy: 0.9850\n",
            "Epoch 83/100\n",
            "100/100 [==============================] - 0s 3ms/step - loss: 0.0444 - accuracy: 0.9850\n",
            "Epoch 84/100\n",
            "100/100 [==============================] - 0s 3ms/step - loss: 0.0434 - accuracy: 0.9850\n",
            "Epoch 85/100\n",
            "100/100 [==============================] - 0s 2ms/step - loss: 0.0429 - accuracy: 0.9837\n",
            "Epoch 86/100\n",
            "100/100 [==============================] - 0s 2ms/step - loss: 0.0422 - accuracy: 0.9850\n",
            "Epoch 87/100\n",
            "100/100 [==============================] - 0s 2ms/step - loss: 0.0429 - accuracy: 0.9850\n",
            "Epoch 88/100\n",
            "100/100 [==============================] - 0s 2ms/step - loss: 0.0412 - accuracy: 0.9850\n",
            "Epoch 89/100\n",
            "100/100 [==============================] - 0s 2ms/step - loss: 0.0411 - accuracy: 0.9850\n",
            "Epoch 90/100\n",
            "100/100 [==============================] - 0s 2ms/step - loss: 0.0407 - accuracy: 0.9850\n",
            "Epoch 91/100\n",
            "100/100 [==============================] - 0s 2ms/step - loss: 0.0401 - accuracy: 0.9850\n",
            "Epoch 92/100\n",
            "100/100 [==============================] - 0s 2ms/step - loss: 0.0393 - accuracy: 0.9837\n",
            "Epoch 93/100\n",
            "100/100 [==============================] - 0s 2ms/step - loss: 0.0393 - accuracy: 0.9850\n",
            "Epoch 94/100\n",
            "100/100 [==============================] - 0s 2ms/step - loss: 0.0394 - accuracy: 0.9862\n",
            "Epoch 95/100\n",
            "100/100 [==============================] - 0s 2ms/step - loss: 0.0390 - accuracy: 0.9850\n",
            "Epoch 96/100\n",
            "100/100 [==============================] - 0s 2ms/step - loss: 0.0380 - accuracy: 0.9837\n",
            "Epoch 97/100\n",
            "100/100 [==============================] - 0s 2ms/step - loss: 0.0384 - accuracy: 0.9837\n",
            "Epoch 98/100\n",
            "100/100 [==============================] - 0s 2ms/step - loss: 0.0371 - accuracy: 0.9837\n",
            "Epoch 99/100\n",
            "100/100 [==============================] - 0s 2ms/step - loss: 0.0375 - accuracy: 0.9837\n",
            "Epoch 100/100\n",
            "100/100 [==============================] - 0s 2ms/step - loss: 0.0385 - accuracy: 0.9837\n"
          ]
        },
        {
          "output_type": "execute_result",
          "data": {
            "text/plain": [
              "<keras.callbacks.History at 0x7fdcf2a15f10>"
            ]
          },
          "metadata": {},
          "execution_count": 29
        }
      ]
    },
    {
      "cell_type": "code",
      "source": [
        "pred_ann = ann.predict(x_test)\n",
        "pred_ann = (pred_ann > 0.5)"
      ],
      "metadata": {
        "id": "m4QUf7Q_lYkz"
      },
      "execution_count": null,
      "outputs": []
    },
    {
      "cell_type": "code",
      "source": [
        "cm_ann = confusion_matrix(y_test,pred_ann)\n",
        "print(cm_ann)\n"
      ],
      "metadata": {
        "colab": {
          "base_uri": "https://localhost:8080/"
        },
        "id": "lGeJyscMlYdN",
        "outputId": "12963b36-ad10-4dff-916d-9a00fed75352"
      },
      "execution_count": null,
      "outputs": [
        {
          "output_type": "stream",
          "name": "stdout",
          "text": [
            "[[195   1]\n",
            " [  3   1]]\n"
          ]
        }
      ]
    },
    {
      "cell_type": "code",
      "source": [
        "print(classification_report(y_test, pred_ann))"
      ],
      "metadata": {
        "colab": {
          "base_uri": "https://localhost:8080/"
        },
        "id": "s1EdSXfim6AP",
        "outputId": "bc607eb9-6eb2-4dc3-b383-1fb7f56e3163"
      },
      "execution_count": null,
      "outputs": [
        {
          "output_type": "stream",
          "name": "stdout",
          "text": [
            "              precision    recall  f1-score   support\n",
            "\n",
            "           0       0.98      0.99      0.99       196\n",
            "           1       0.50      0.25      0.33         4\n",
            "\n",
            "    accuracy                           0.98       200\n",
            "   macro avg       0.74      0.62      0.66       200\n",
            "weighted avg       0.98      0.98      0.98       200\n",
            "\n"
          ]
        }
      ]
    },
    {
      "cell_type": "code",
      "source": [
        "acc_ann = accuracy_score(y_test,pred_ann)*100\n",
        "print(acc_ann)"
      ],
      "metadata": {
        "colab": {
          "base_uri": "https://localhost:8080/"
        },
        "id": "-rNidX_nnCMv",
        "outputId": "007da1b2-2af2-4ee6-bbdf-2f54c76a5393"
      },
      "execution_count": null,
      "outputs": [
        {
          "output_type": "stream",
          "name": "stdout",
          "text": [
            "98.0\n"
          ]
        }
      ]
    },
    {
      "cell_type": "code",
      "source": [
        "plt.figure(figsize=(14,7))\n",
        "plt.subplot(2,3,1)\n",
        "sb.heatmap(cm_nb, annot=True).set(title = 'Naive Bayes')\n",
        "plt.subplot(2,3,2)\n",
        "sb.heatmap(cm_dt, annot=True).set(title = 'Decision Tree')\n",
        "plt.subplot(2,3,3)\n",
        "sb.heatmap(cm_lr, annot=True).set(title = 'Linear Regression')\n",
        "plt.subplot(2,3,4)\n",
        "sb.heatmap(cm_svm, annot=True).set(title = 'SVM')\n",
        "plt.subplot(2,3,5)\n",
        "sb.heatmap(cm_ann, annot=True).set(title = 'ANN')\n",
        "\n",
        "plt.tight_layout();"
      ],
      "metadata": {
        "colab": {
          "base_uri": "https://localhost:8080/",
          "height": 533
        },
        "id": "l8gjj8lavcOT",
        "outputId": "6ea36a38-c039-4162-ed03-1991fde76efc"
      },
      "execution_count": null,
      "outputs": [
        {
          "output_type": "display_data",
          "data": {
            "text/plain": [
              "<Figure size 1008x504 with 10 Axes>"
            ],
            "image/png": "[encoded data removed]"
          },
          "metadata": {
            "needs_background": "light"
          }
        }
      ]
    },
    {
      "cell_type": "code",
      "source": [
        "total_acc = {'Naive Bayes':acc_nb, 'Decision Tree':acc_dt, 'Logistic Regresion':acc_lr, 'SVM': acc_svm, 'ANN': acc_ann}"
      ],
      "metadata": {
        "id": "enq3cuya0Sv-"
      },
      "execution_count": null,
      "outputs": []
    },
    {
      "cell_type": "code",
      "source": [
        "acc=sorted(total_acc.items(),key=lambda x: x[1], reverse=True)\n",
        "acc=dict(acc)\n",
        "x_acc = list(acc.keys())\n",
        "y_acc = list(acc.values())\n",
        "plt.figure(figsize=[25,10])\n",
        "plt.plot(x_acc, y_acc)\n",
        "plt.ylabel('Accuracy percentage',fontsize=30)\n",
        "plt.xlabel('ML Classifiers',fontsize=30)\n",
        "plt.xticks(fontsize=20)\n",
        "plt.yticks(fontsize=20)\n",
        "plt.title('5G prediction performance',fontsize=50)\n",
        "plt.grid()\n",
        "plt.tight_layout()"
      ],
      "metadata": {
        "colab": {
          "base_uri": "https://localhost:8080/",
          "height": 267
        },
        "id": "lIvMmkAHnJpQ",
        "outputId": "6dd99823-049d-4a76-b533-1c975720fc90"
      },
      "execution_count": null,
      "outputs": [
        {
          "output_type": "display_data",
          "data": {
            "text/plain": [
              "<Figure size 1800x720 with 1 Axes>"
            ],
            "image/png": "[encoded data removed]"
          },
          "metadata": {
            "needs_background": "light"
          }
        }
      ]
    },
    {
      "cell_type": "code",
      "source": [
        "#inspiration for this analysis was obtained from https://github.com/metwallusion/5g-user-prediction. Therefore there are similar ascpects of the code, However the analysis and results were totally different."
      ],
      "metadata": {
        "id": "povuGzmT2_Oo"
      },
      "execution_count": null,
      "outputs": []
    }
  ]
}